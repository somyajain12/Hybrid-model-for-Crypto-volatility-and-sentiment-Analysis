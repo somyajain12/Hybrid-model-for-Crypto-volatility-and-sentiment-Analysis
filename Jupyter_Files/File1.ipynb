{
 "cells": [
  {
   "cell_type": "code",
   "execution_count": 2,
   "metadata": {},
   "outputs": [],
   "source": [
    "import requests\n",
    "import pandas as pd\n",
    "from datetime import datetime, timedelta"
   ]
  },
  {
   "cell_type": "code",
   "execution_count": 3,
   "metadata": {},
   "outputs": [],
   "source": [
    "import pandas as pd\n",
    "import requests\n",
    "\n",
    "def get_crypto_data(crypto_id, days=365):\n",
    "    url = f\"https://api.coingecko.com/api/v3/coins/{crypto_id}/market_chart\"\n",
    "    params = {\n",
    "        'vs_currency': 'usd',\n",
    "        'days': days,\n",
    "        'interval': 'daily'\n",
    "    }\n",
    "    \n",
    "    headers = {'User-Agent': 'Mozilla/5.0'}\n",
    "    response = requests.get(url, params=params, headers=headers)\n",
    "    data = response.json()\n",
    "\n",
    "    if 'prices' not in data:\n",
    "        print(f\"No 'prices' found for {crypto_id}\")\n",
    "        return pd.DataFrame()\n",
    "\n",
    "    df = pd.DataFrame(data['prices'], columns=['timestamp', 'price'])\n",
    "    df['date'] = pd.to_datetime(df['timestamp'], unit='ms')\n",
    "\n",
    "    df['total_volume'] = [x[1] for x in data['total_volumes']]\n",
    "    df['market_cap'] = [x[1] for x in data['market_caps']]\n",
    "    df['coin_name'] = crypto_id\n",
    "\n",
    "    # ➡️ Now select only required columns\n",
    "    df = df[['date', 'price', 'total_volume', 'market_cap', 'coin_name']]\n",
    "    \n",
    "    return df\n"
   ]
  },
  {
   "cell_type": "code",
   "execution_count": null,
   "metadata": {},
   "outputs": [],
   "source": []
  },
  {
   "cell_type": "code",
   "execution_count": 4,
   "metadata": {},
   "outputs": [],
   "source": [
    "btc_data = get_crypto_data('bitcoin')"
   ]
  },
  {
   "cell_type": "code",
   "execution_count": 5,
   "metadata": {},
   "outputs": [
    {
     "data": {
      "text/html": [
       "<div>\n",
       "<style scoped>\n",
       "    .dataframe tbody tr th:only-of-type {\n",
       "        vertical-align: middle;\n",
       "    }\n",
       "\n",
       "    .dataframe tbody tr th {\n",
       "        vertical-align: top;\n",
       "    }\n",
       "\n",
       "    .dataframe thead th {\n",
       "        text-align: right;\n",
       "    }\n",
       "</style>\n",
       "<table border=\"1\" class=\"dataframe\">\n",
       "  <thead>\n",
       "    <tr style=\"text-align: right;\">\n",
       "      <th></th>\n",
       "      <th>date</th>\n",
       "      <th>price</th>\n",
       "      <th>total_volume</th>\n",
       "      <th>market_cap</th>\n",
       "      <th>coin_name</th>\n",
       "    </tr>\n",
       "  </thead>\n",
       "  <tbody>\n",
       "    <tr>\n",
       "      <th>0</th>\n",
       "      <td>2024-04-28 00:00:00</td>\n",
       "      <td>63517.248743</td>\n",
       "      <td>1.919048e+10</td>\n",
       "      <td>1.249495e+12</td>\n",
       "      <td>bitcoin</td>\n",
       "    </tr>\n",
       "    <tr>\n",
       "      <th>1</th>\n",
       "      <td>2024-04-29 00:00:00</td>\n",
       "      <td>63030.433617</td>\n",
       "      <td>1.618029e+10</td>\n",
       "      <td>1.240725e+12</td>\n",
       "      <td>bitcoin</td>\n",
       "    </tr>\n",
       "    <tr>\n",
       "      <th>2</th>\n",
       "      <td>2024-04-30 00:00:00</td>\n",
       "      <td>63797.679636</td>\n",
       "      <td>2.724298e+10</td>\n",
       "      <td>1.257159e+12</td>\n",
       "      <td>bitcoin</td>\n",
       "    </tr>\n",
       "    <tr>\n",
       "      <th>3</th>\n",
       "      <td>2024-05-01 00:00:00</td>\n",
       "      <td>60749.472092</td>\n",
       "      <td>3.953311e+10</td>\n",
       "      <td>1.197774e+12</td>\n",
       "      <td>bitcoin</td>\n",
       "    </tr>\n",
       "    <tr>\n",
       "      <th>4</th>\n",
       "      <td>2024-05-02 00:00:00</td>\n",
       "      <td>58297.574075</td>\n",
       "      <td>5.110938e+10</td>\n",
       "      <td>1.151677e+12</td>\n",
       "      <td>bitcoin</td>\n",
       "    </tr>\n",
       "    <tr>\n",
       "      <th>...</th>\n",
       "      <td>...</td>\n",
       "      <td>...</td>\n",
       "      <td>...</td>\n",
       "      <td>...</td>\n",
       "      <td>...</td>\n",
       "    </tr>\n",
       "    <tr>\n",
       "      <th>361</th>\n",
       "      <td>2025-04-24 00:00:00</td>\n",
       "      <td>93605.452309</td>\n",
       "      <td>3.990152e+10</td>\n",
       "      <td>1.858660e+12</td>\n",
       "      <td>bitcoin</td>\n",
       "    </tr>\n",
       "    <tr>\n",
       "      <th>362</th>\n",
       "      <td>2025-04-25 00:00:00</td>\n",
       "      <td>93872.814229</td>\n",
       "      <td>3.003125e+10</td>\n",
       "      <td>1.864298e+12</td>\n",
       "      <td>bitcoin</td>\n",
       "    </tr>\n",
       "    <tr>\n",
       "      <th>363</th>\n",
       "      <td>2025-04-26 00:00:00</td>\n",
       "      <td>94773.112006</td>\n",
       "      <td>3.933618e+10</td>\n",
       "      <td>1.882122e+12</td>\n",
       "      <td>bitcoin</td>\n",
       "    </tr>\n",
       "    <tr>\n",
       "      <th>364</th>\n",
       "      <td>2025-04-27 00:00:00</td>\n",
       "      <td>94644.066371</td>\n",
       "      <td>1.544539e+10</td>\n",
       "      <td>1.879132e+12</td>\n",
       "      <td>bitcoin</td>\n",
       "    </tr>\n",
       "    <tr>\n",
       "      <th>365</th>\n",
       "      <td>2025-04-27 22:04:18</td>\n",
       "      <td>94305.198413</td>\n",
       "      <td>1.609413e+10</td>\n",
       "      <td>1.873692e+12</td>\n",
       "      <td>bitcoin</td>\n",
       "    </tr>\n",
       "  </tbody>\n",
       "</table>\n",
       "<p>366 rows × 5 columns</p>\n",
       "</div>"
      ],
      "text/plain": [
       "                   date         price  total_volume    market_cap coin_name\n",
       "0   2024-04-28 00:00:00  63517.248743  1.919048e+10  1.249495e+12   bitcoin\n",
       "1   2024-04-29 00:00:00  63030.433617  1.618029e+10  1.240725e+12   bitcoin\n",
       "2   2024-04-30 00:00:00  63797.679636  2.724298e+10  1.257159e+12   bitcoin\n",
       "3   2024-05-01 00:00:00  60749.472092  3.953311e+10  1.197774e+12   bitcoin\n",
       "4   2024-05-02 00:00:00  58297.574075  5.110938e+10  1.151677e+12   bitcoin\n",
       "..                  ...           ...           ...           ...       ...\n",
       "361 2025-04-24 00:00:00  93605.452309  3.990152e+10  1.858660e+12   bitcoin\n",
       "362 2025-04-25 00:00:00  93872.814229  3.003125e+10  1.864298e+12   bitcoin\n",
       "363 2025-04-26 00:00:00  94773.112006  3.933618e+10  1.882122e+12   bitcoin\n",
       "364 2025-04-27 00:00:00  94644.066371  1.544539e+10  1.879132e+12   bitcoin\n",
       "365 2025-04-27 22:04:18  94305.198413  1.609413e+10  1.873692e+12   bitcoin\n",
       "\n",
       "[366 rows x 5 columns]"
      ]
     },
     "execution_count": 5,
     "metadata": {},
     "output_type": "execute_result"
    }
   ],
   "source": [
    "btc_data"
   ]
  },
  {
   "cell_type": "code",
   "execution_count": 6,
   "metadata": {},
   "outputs": [
    {
     "data": {
      "text/html": [
       "<div>\n",
       "<style scoped>\n",
       "    .dataframe tbody tr th:only-of-type {\n",
       "        vertical-align: middle;\n",
       "    }\n",
       "\n",
       "    .dataframe tbody tr th {\n",
       "        vertical-align: top;\n",
       "    }\n",
       "\n",
       "    .dataframe thead th {\n",
       "        text-align: right;\n",
       "    }\n",
       "</style>\n",
       "<table border=\"1\" class=\"dataframe\">\n",
       "  <thead>\n",
       "    <tr style=\"text-align: right;\">\n",
       "      <th></th>\n",
       "      <th>date</th>\n",
       "      <th>price</th>\n",
       "      <th>total_volume</th>\n",
       "      <th>market_cap</th>\n",
       "      <th>coin_name</th>\n",
       "    </tr>\n",
       "  </thead>\n",
       "  <tbody>\n",
       "    <tr>\n",
       "      <th>0</th>\n",
       "      <td>2024-04-28</td>\n",
       "      <td>63517.248743</td>\n",
       "      <td>1.919048e+10</td>\n",
       "      <td>1.249495e+12</td>\n",
       "      <td>bitcoin</td>\n",
       "    </tr>\n",
       "    <tr>\n",
       "      <th>1</th>\n",
       "      <td>2024-04-29</td>\n",
       "      <td>63030.433617</td>\n",
       "      <td>1.618029e+10</td>\n",
       "      <td>1.240725e+12</td>\n",
       "      <td>bitcoin</td>\n",
       "    </tr>\n",
       "    <tr>\n",
       "      <th>2</th>\n",
       "      <td>2024-04-30</td>\n",
       "      <td>63797.679636</td>\n",
       "      <td>2.724298e+10</td>\n",
       "      <td>1.257159e+12</td>\n",
       "      <td>bitcoin</td>\n",
       "    </tr>\n",
       "    <tr>\n",
       "      <th>3</th>\n",
       "      <td>2024-05-01</td>\n",
       "      <td>60749.472092</td>\n",
       "      <td>3.953311e+10</td>\n",
       "      <td>1.197774e+12</td>\n",
       "      <td>bitcoin</td>\n",
       "    </tr>\n",
       "    <tr>\n",
       "      <th>4</th>\n",
       "      <td>2024-05-02</td>\n",
       "      <td>58297.574075</td>\n",
       "      <td>5.110938e+10</td>\n",
       "      <td>1.151677e+12</td>\n",
       "      <td>bitcoin</td>\n",
       "    </tr>\n",
       "  </tbody>\n",
       "</table>\n",
       "</div>"
      ],
      "text/plain": [
       "        date         price  total_volume    market_cap coin_name\n",
       "0 2024-04-28  63517.248743  1.919048e+10  1.249495e+12   bitcoin\n",
       "1 2024-04-29  63030.433617  1.618029e+10  1.240725e+12   bitcoin\n",
       "2 2024-04-30  63797.679636  2.724298e+10  1.257159e+12   bitcoin\n",
       "3 2024-05-01  60749.472092  3.953311e+10  1.197774e+12   bitcoin\n",
       "4 2024-05-02  58297.574075  5.110938e+10  1.151677e+12   bitcoin"
      ]
     },
     "execution_count": 6,
     "metadata": {},
     "output_type": "execute_result"
    }
   ],
   "source": [
    "btc_data.head()"
   ]
  },
  {
   "cell_type": "code",
   "execution_count": 7,
   "metadata": {},
   "outputs": [],
   "source": [
    "btc_data.to_csv('crypto_market_data.csv', index=False)"
   ]
  },
  {
   "cell_type": "code",
   "execution_count": 8,
   "metadata": {},
   "outputs": [
    {
     "name": "stdout",
     "output_type": "stream",
     "text": [
      "CSV files merged successfully!\n"
     ]
    }
   ],
   "source": [
    "import pandas as pd\n",
    "\n",
    "# Read both CSV files\n",
    "df1 = pd.read_csv('C:/Users/somya/Downloads/Hybrid Model for Crypto Volatility Prediction using Sentiment Analysis/Data_set/bitcoin.csv')\n",
    "df2 = pd.read_csv('C:/Users/somya/Downloads/Hybrid Model for Crypto Volatility Prediction using Sentiment Analysis/Data_set/crypto_market_data.csv')\n",
    "\n",
    "\n",
    "# Merge them vertically (i.e., one after another)\n",
    "merged_df = pd.concat([df1, df2], axis=0, ignore_index=True)\n",
    "\n",
    "# Save the merged file\n",
    "merged_df.to_csv('C:/Users/somya/Downloads/Hybrid Model for Crypto Volatility Prediction using Sentiment Analysis/Data_set/bitcon_merged_file.csv', index=False)\n",
    "\n",
    "print(\"CSV files merged successfully!\")\n"
   ]
  },
  {
   "cell_type": "code",
   "execution_count": 9,
   "metadata": {},
   "outputs": [],
   "source": [
    "def calculate_volatility(merged_df, crypto_id, window=30):\n",
    "    # Calculate daily returns\n",
    "    merged_df[f'{crypto_id}_returns'] = merged_df['price'].pct_change()\n",
    "\n",
    "    # Calculate rolling volatility over 'window' days and annualize it\n",
    "    merged_df[f'{crypto_id}_volatility'] = merged_df[f'{crypto_id}_returns'].rolling(window=window).std() * (365**0.5)\n",
    "    \n",
    "    return merged_df\n"
   ]
  },
  {
   "cell_type": "code",
   "execution_count": 10,
   "metadata": {},
   "outputs": [],
   "source": [
    "btc_data = calculate_volatility(merged_df,'bitcoin')"
   ]
  },
  {
   "cell_type": "code",
   "execution_count": 11,
   "metadata": {},
   "outputs": [
    {
     "data": {
      "text/plain": [
       "date                   0\n",
       "price                  0\n",
       "total_volume           0\n",
       "market_cap             1\n",
       "coin_name              0\n",
       "bitcoin_returns        1\n",
       "bitcoin_volatility    30\n",
       "dtype: int64"
      ]
     },
     "execution_count": 11,
     "metadata": {},
     "output_type": "execute_result"
    }
   ],
   "source": [
    "btc_data.isnull().sum()"
   ]
  },
  {
   "cell_type": "code",
   "execution_count": 12,
   "metadata": {},
   "outputs": [],
   "source": [
    "btc_data['bitcoin_returns']=btc_data['bitcoin_returns'].fillna(btc_data['bitcoin_returns'].mean())"
   ]
  },
  {
   "cell_type": "code",
   "execution_count": 13,
   "metadata": {},
   "outputs": [],
   "source": [
    "btc_data['bitcoin_volatility']=btc_data['bitcoin_volatility'].fillna(btc_data['bitcoin_volatility'].mean())"
   ]
  },
  {
   "cell_type": "code",
   "execution_count": 14,
   "metadata": {},
   "outputs": [
    {
     "data": {
      "text/html": [
       "<div>\n",
       "<style scoped>\n",
       "    .dataframe tbody tr th:only-of-type {\n",
       "        vertical-align: middle;\n",
       "    }\n",
       "\n",
       "    .dataframe tbody tr th {\n",
       "        vertical-align: top;\n",
       "    }\n",
       "\n",
       "    .dataframe thead th {\n",
       "        text-align: right;\n",
       "    }\n",
       "</style>\n",
       "<table border=\"1\" class=\"dataframe\">\n",
       "  <thead>\n",
       "    <tr style=\"text-align: right;\">\n",
       "      <th></th>\n",
       "      <th>date</th>\n",
       "      <th>price</th>\n",
       "      <th>total_volume</th>\n",
       "      <th>market_cap</th>\n",
       "      <th>coin_name</th>\n",
       "      <th>bitcoin_returns</th>\n",
       "      <th>bitcoin_volatility</th>\n",
       "    </tr>\n",
       "  </thead>\n",
       "  <tbody>\n",
       "    <tr>\n",
       "      <th>3734</th>\n",
       "      <td>2025-04-24 00:00:00</td>\n",
       "      <td>93605.452309</td>\n",
       "      <td>3.990152e+10</td>\n",
       "      <td>1.858660e+12</td>\n",
       "      <td>bitcoin</td>\n",
       "      <td>0.000313</td>\n",
       "      <td>0.579362</td>\n",
       "    </tr>\n",
       "    <tr>\n",
       "      <th>3735</th>\n",
       "      <td>2025-04-25 00:00:00</td>\n",
       "      <td>93872.814229</td>\n",
       "      <td>3.003125e+10</td>\n",
       "      <td>1.864298e+12</td>\n",
       "      <td>bitcoin</td>\n",
       "      <td>0.002856</td>\n",
       "      <td>0.579358</td>\n",
       "    </tr>\n",
       "    <tr>\n",
       "      <th>3736</th>\n",
       "      <td>2025-04-26 00:00:00</td>\n",
       "      <td>94773.112006</td>\n",
       "      <td>3.933618e+10</td>\n",
       "      <td>1.882122e+12</td>\n",
       "      <td>bitcoin</td>\n",
       "      <td>0.009591</td>\n",
       "      <td>0.578856</td>\n",
       "    </tr>\n",
       "    <tr>\n",
       "      <th>3737</th>\n",
       "      <td>2025-04-27 00:00:00</td>\n",
       "      <td>94644.066371</td>\n",
       "      <td>1.544539e+10</td>\n",
       "      <td>1.879132e+12</td>\n",
       "      <td>bitcoin</td>\n",
       "      <td>-0.001362</td>\n",
       "      <td>0.579085</td>\n",
       "    </tr>\n",
       "    <tr>\n",
       "      <th>3738</th>\n",
       "      <td>2025-04-27 20:32:57</td>\n",
       "      <td>94320.952422</td>\n",
       "      <td>1.587970e+10</td>\n",
       "      <td>1.872924e+12</td>\n",
       "      <td>bitcoin</td>\n",
       "      <td>-0.003414</td>\n",
       "      <td>0.564953</td>\n",
       "    </tr>\n",
       "  </tbody>\n",
       "</table>\n",
       "</div>"
      ],
      "text/plain": [
       "                     date         price  total_volume    market_cap coin_name  \\\n",
       "3734  2025-04-24 00:00:00  93605.452309  3.990152e+10  1.858660e+12   bitcoin   \n",
       "3735  2025-04-25 00:00:00  93872.814229  3.003125e+10  1.864298e+12   bitcoin   \n",
       "3736  2025-04-26 00:00:00  94773.112006  3.933618e+10  1.882122e+12   bitcoin   \n",
       "3737  2025-04-27 00:00:00  94644.066371  1.544539e+10  1.879132e+12   bitcoin   \n",
       "3738  2025-04-27 20:32:57  94320.952422  1.587970e+10  1.872924e+12   bitcoin   \n",
       "\n",
       "      bitcoin_returns  bitcoin_volatility  \n",
       "3734         0.000313            0.579362  \n",
       "3735         0.002856            0.579358  \n",
       "3736         0.009591            0.578856  \n",
       "3737        -0.001362            0.579085  \n",
       "3738        -0.003414            0.564953  "
      ]
     },
     "execution_count": 14,
     "metadata": {},
     "output_type": "execute_result"
    }
   ],
   "source": [
    "btc_data.tail()"
   ]
  },
  {
   "cell_type": "code",
   "execution_count": 16,
   "metadata": {},
   "outputs": [],
   "source": [
    "\n",
    "btc_data.to_csv('C:/Users/somya/Downloads/Hybrid Model for Crypto Volatility Prediction using Sentiment Analysis/Data_set/bitcon_merged_volatility_file.csv', index=False)"
   ]
  }
 ],
 "metadata": {
  "kernelspec": {
   "display_name": "base",
   "language": "python",
   "name": "python3"
  },
  "language_info": {
   "codemirror_mode": {
    "name": "ipython",
    "version": 3
   },
   "file_extension": ".py",
   "mimetype": "text/x-python",
   "name": "python",
   "nbconvert_exporter": "python",
   "pygments_lexer": "ipython3",
   "version": "3.11.4"
  }
 },
 "nbformat": 4,
 "nbformat_minor": 2
}
