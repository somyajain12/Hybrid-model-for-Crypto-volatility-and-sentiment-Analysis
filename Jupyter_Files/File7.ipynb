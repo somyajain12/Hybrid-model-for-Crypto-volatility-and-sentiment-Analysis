{
 "cells": [
  {
   "cell_type": "code",
   "execution_count": 1,
   "metadata": {},
   "outputs": [],
   "source": [
    "import pandas as pd\n",
    "import numpy as np\n",
    "from sklearn.model_selection import TimeSeriesSplit,RandomizedSearchCV\n",
    "from sklearn.metrics import mean_squared_error, mean_absolute_error\n",
    "from sklearn.ensemble import RandomForestRegressor\n"
   ]
  },
  {
   "cell_type": "code",
   "execution_count": 2,
   "metadata": {},
   "outputs": [],
   "source": [
    "from xgboost import XGBRegressor"
   ]
  },
  {
   "cell_type": "code",
   "execution_count": 3,
   "metadata": {},
   "outputs": [
    {
     "name": "stderr",
     "output_type": "stream",
     "text": [
      "C:\\Users\\somya\\AppData\\Local\\Temp\\ipykernel_17808\\2588901285.py:1: UserWarning: Could not infer format, so each element will be parsed individually, falling back to `dateutil`. To ensure parsing is consistent and as-expected, please specify a format.\n",
      "  data1 = pd.read_csv('C:/Users/somya/Downloads/Hybrid Model for Crypto Volatility Prediction using Sentiment Analysis/Data_set/final-data.csv', index_col=0, parse_dates=True)\n"
     ]
    }
   ],
   "source": [
    "data1 = pd.read_csv('C:/Users/somya/Downloads/Hybrid Model for Crypto Volatility Prediction using Sentiment Analysis/Data_set/final-data.csv', index_col=0, parse_dates=True)"
   ]
  },
  {
   "cell_type": "code",
   "execution_count": 4,
   "metadata": {},
   "outputs": [],
   "source": [
    "x=data1.drop(['bitcoin_volatility'],axis=1)"
   ]
  },
  {
   "cell_type": "code",
   "execution_count": 6,
   "metadata": {},
   "outputs": [],
   "source": [
    "y = data1['market_signal']\n"
   ]
  },
  {
   "cell_type": "code",
   "execution_count": 7,
   "metadata": {},
   "outputs": [
    {
     "name": "stdout",
     "output_type": "stream",
     "text": [
      "timestamp                     0\n",
      "price                         0\n",
      "total_volume                  0\n",
      "market_cap                    1\n",
      "coin_name                     0\n",
      "bitcoin_returns               0\n",
      "score                         0\n",
      "No_Comments                   0\n",
      "title_sentiment               0\n",
      "description_sentiment         0\n",
      "score_lag1                    0\n",
      "score_lag2                    0\n",
      "score_lag3                    0\n",
      "score_lag4                    0\n",
      "score_lag5                    0\n",
      "score_lag6                    0\n",
      "score_lag7                    0\n",
      "No_Comments_lag1              0\n",
      "No_Comments_lag2              0\n",
      "No_Comments_lag3              0\n",
      "No_Comments_lag4              0\n",
      "No_Comments_lag5              0\n",
      "No_Comments_lag6              0\n",
      "No_Comments_lag7              0\n",
      "title_sentiment_lag1          0\n",
      "title_sentiment_lag2          0\n",
      "title_sentiment_lag3          0\n",
      "title_sentiment_lag4          0\n",
      "title_sentiment_lag5          0\n",
      "title_sentiment_lag6          0\n",
      "title_sentiment_lag7          0\n",
      "description_sentiment_lag1    0\n",
      "description_sentiment_lag2    0\n",
      "description_sentiment_lag3    0\n",
      "description_sentiment_lag4    0\n",
      "description_sentiment_lag5    0\n",
      "description_sentiment_lag6    0\n",
      "description_sentiment_lag7    0\n",
      "sentiment                     0\n",
      "market_signal                 0\n",
      "sentiment1                    0\n",
      "sentiment2                    0\n",
      "sentiment3                    0\n",
      "sentiment4                    0\n",
      "sentiment5                    0\n",
      "sentiment6                    0\n",
      "sentiment7                    0\n",
      "total_sentiment               0\n",
      "dtype: int64\n"
     ]
    }
   ],
   "source": [
    "print(x.isnull().sum())"
   ]
  },
  {
   "cell_type": "code",
   "execution_count": 17,
   "metadata": {},
   "outputs": [],
   "source": [
    "numeric_cols = x.select_dtypes(include=[np.number]).columns\n",
    "x[numeric_cols] = x[numeric_cols].fillna(x[numeric_cols].mean())\n"
   ]
  },
  {
   "cell_type": "code",
   "execution_count": 20,
   "metadata": {},
   "outputs": [
    {
     "name": "stdout",
     "output_type": "stream",
     "text": [
      "              precision    recall  f1-score   support\n",
      "\n",
      "     Bearish       0.99      0.86      0.92       226\n",
      "     Bullish       0.98      0.88      0.93       146\n",
      "     Neutral       0.89      0.99      0.93       376\n",
      "\n",
      "    accuracy                           0.93       748\n",
      "   macro avg       0.95      0.91      0.93       748\n",
      "weighted avg       0.94      0.93      0.93       748\n",
      "\n"
     ]
    }
   ],
   "source": [
    "from sklearn.ensemble import RandomForestClassifier\n",
    "from sklearn.model_selection import train_test_split\n",
    "from sklearn.metrics import classification_report\n",
    "from sklearn.preprocessing import LabelEncoder\n",
    "\n",
    "# Features\n",
    "X = data1.drop(columns=['timestamp', 'coin_name', 'market_signal'], errors='ignore')\n",
    "# Target\n",
    "y = data1['market_signal']\n",
    "\n",
    "# Encode labels\n",
    "encoder = LabelEncoder()\n",
    "y_encoded = encoder.fit_transform(y)\n",
    "\n",
    "# Split data (No shuffle for time series!)\n",
    "X_train, X_test, y_train, y_test = train_test_split(X, y_encoded, test_size=0.2, shuffle=False)\n",
    "\n",
    "# Train classifier\n",
    "clf_model = RandomForestClassifier(n_estimators=100, random_state=42)\n",
    "clf_model.fit(X_train, y_train)\n",
    "\n",
    "# Predict\n",
    "y_pred = clf_model.predict(X_test)\n",
    "\n",
    "# Evaluate\n",
    "print(classification_report(y_test, y_pred, target_names=encoder.classes_))\n"
   ]
  },
  {
   "cell_type": "code",
   "execution_count": 15,
   "metadata": {},
   "outputs": [],
   "source": [
    "tscv = TimeSeriesSplit(n_splits=5)"
   ]
  },
  {
   "cell_type": "code",
   "execution_count": 24,
   "metadata": {},
   "outputs": [],
   "source": [
    "# Make sure to only keep numeric features\n",
    "X = x.copy()\n",
    "\n",
    "# Drop non-numeric columns (timestamp, coin_name etc.)\n",
    "X = X.drop(columns=['timestamp', 'coin_name', 'market_signal'], errors='ignore')\n"
   ]
  },
  {
   "cell_type": "code",
   "execution_count": 28,
   "metadata": {},
   "outputs": [],
   "source": [
    "def evaluate_classifier(model, X, y):\n",
    "    tscv = TimeSeriesSplit(n_splits=5)\n",
    "    accuracies = []\n",
    "    \n",
    "    for train_index, test_index in tscv.split(X):\n",
    "        X_train, X_test = X.iloc[train_index], X.iloc[test_index]\n",
    "        y_train, y_test = y.iloc[train_index], y.iloc[test_index]\n",
    "\n",
    "        model.fit(X_train, y_train)\n",
    "        y_pred = model.predict(X_test)\n",
    "\n",
    "        acc = accuracy_score(y_test, y_pred)\n",
    "        accuracies.append(acc)\n",
    "\n",
    "    return np.mean(accuracies)\n"
   ]
  },
  {
   "cell_type": "code",
   "execution_count": 29,
   "metadata": {},
   "outputs": [
    {
     "name": "stdout",
     "output_type": "stream",
     "text": [
      "              precision    recall  f1-score   support\n",
      "\n",
      "     Bearish       0.00      0.00      0.00       260\n",
      "     Bullish       0.85      1.00      0.92      1709\n",
      "     Neutral       0.86      0.84      0.85      1770\n",
      "\n",
      "    accuracy                           0.85      3739\n",
      "   macro avg       0.57      0.61      0.59      3739\n",
      "weighted avg       0.79      0.85      0.82      3739\n",
      "\n",
      "Accuracy: 0.8529018454132121\n"
     ]
    },
    {
     "name": "stderr",
     "output_type": "stream",
     "text": [
      "c:\\Users\\somya\\Downloads\\Hybrid Model for Crypto Volatility Prediction using Sentiment Analysis\\cryptoenv\\lib\\site-packages\\sklearn\\metrics\\_classification.py:1565: UndefinedMetricWarning: Precision is ill-defined and being set to 0.0 in labels with no predicted samples. Use `zero_division` parameter to control this behavior.\n",
      "  _warn_prf(average, modifier, f\"{metric.capitalize()} is\", len(result))\n",
      "c:\\Users\\somya\\Downloads\\Hybrid Model for Crypto Volatility Prediction using Sentiment Analysis\\cryptoenv\\lib\\site-packages\\sklearn\\metrics\\_classification.py:1565: UndefinedMetricWarning: Precision is ill-defined and being set to 0.0 in labels with no predicted samples. Use `zero_division` parameter to control this behavior.\n",
      "  _warn_prf(average, modifier, f\"{metric.capitalize()} is\", len(result))\n",
      "c:\\Users\\somya\\Downloads\\Hybrid Model for Crypto Volatility Prediction using Sentiment Analysis\\cryptoenv\\lib\\site-packages\\sklearn\\metrics\\_classification.py:1565: UndefinedMetricWarning: Precision is ill-defined and being set to 0.0 in labels with no predicted samples. Use `zero_division` parameter to control this behavior.\n",
      "  _warn_prf(average, modifier, f\"{metric.capitalize()} is\", len(result))\n"
     ]
    }
   ],
   "source": [
    "from sklearn.metrics import classification_report, accuracy_score\n",
    "\n",
    "# Make predictions\n",
    "y_pred = clf_model.predict(X)\n",
    "\n",
    "# Print classification report\n",
    "print(classification_report(y, y_pred, target_names=encoder.classes_))\n",
    "\n",
    "# Optionally, print accuracy too\n",
    "print(f\"Accuracy: {accuracy_score(y, y_pred)}\")\n"
   ]
  },
  {
   "cell_type": "code",
   "execution_count": 30,
   "metadata": {},
   "outputs": [
    {
     "name": "stdout",
     "output_type": "stream",
     "text": [
      "Random Forest Classifier - Accuracy: 0.9756019261637239\n"
     ]
    }
   ],
   "source": [
    "clf_accuracy = evaluate_classifier(clf_model, X, y)\n",
    "print(f\"Random Forest Classifier - Accuracy: {clf_accuracy}\")\n",
    "\n"
   ]
  },
  {
   "cell_type": "code",
   "execution_count": 32,
   "metadata": {},
   "outputs": [
    {
     "data": {
      "text/plain": [
       "['random_forest_market_signal_model.joblib']"
      ]
     },
     "execution_count": 32,
     "metadata": {},
     "output_type": "execute_result"
    }
   ],
   "source": [
    "import joblib\n",
    "\n",
    "# Save model\n",
    "joblib.dump(clf_accuracy, 'random_forest_market_signal_model.joblib')\n"
   ]
  },
  {
   "cell_type": "code",
   "execution_count": null,
   "metadata": {},
   "outputs": [],
   "source": [
    "import matplotlib.pyplot as plt\n",
    "from sklearn.metrics import ConfusionMatrixDisplay\n",
    "\n",
    "ConfusionMatrixDisplay.from_estimator(clf, X_test, y_test, display_labels=encoder.classes_, cmap=\"Blues\")\n",
    "plt.title(\"Confusion Matrix - Market Signal Prediction\")\n",
    "plt.show()\n"
   ]
  },
  {
   "cell_type": "code",
   "execution_count": null,
   "metadata": {},
   "outputs": [],
   "source": []
  },
  {
   "cell_type": "code",
   "execution_count": null,
   "metadata": {},
   "outputs": [],
   "source": [
    "import pandas as pd\n",
    "\n",
    "feature_importances = pd.Series(clf.feature_importances_, index=X.columns)\n",
    "feature_importances = feature_importances.sort_values(ascending=False)\n",
    "\n",
    "print(feature_importances.head(10)) "
   ]
  },
  {
   "cell_type": "code",
   "execution_count": null,
   "metadata": {},
   "outputs": [
    {
     "data": {
      "text/plain": [
       "(366, 47)"
      ]
     },
     "execution_count": 5,
     "metadata": {},
     "output_type": "execute_result"
    }
   ],
   "source": []
  },
  {
   "cell_type": "code",
   "execution_count": null,
   "metadata": {},
   "outputs": [
    {
     "data": {
      "text/plain": [
       "(362, 47)"
      ]
     },
     "execution_count": 8,
     "metadata": {},
     "output_type": "execute_result"
    }
   ],
   "source": []
  },
  {
   "cell_type": "code",
   "execution_count": null,
   "metadata": {},
   "outputs": [],
   "source": [
    "sen=sum(se)/len(se)"
   ]
  },
  {
   "cell_type": "code",
   "execution_count": null,
   "metadata": {},
   "outputs": [
    {
     "data": {
      "text/plain": [
       "-0.54035959875"
      ]
     },
     "execution_count": 14,
     "metadata": {},
     "output_type": "execute_result"
    }
   ],
   "source": [
    "sen"
   ]
  },
  {
   "cell_type": "code",
   "execution_count": null,
   "metadata": {},
   "outputs": [
    {
     "data": {
      "text/plain": [
       "np.float64(-0.5403595987500001)"
      ]
     },
     "execution_count": 11,
     "metadata": {},
     "output_type": "execute_result"
    }
   ],
   "source": [
    "se"
   ]
  },
  {
   "cell_type": "code",
   "execution_count": null,
   "metadata": {},
   "outputs": [],
   "source": []
  },
  {
   "cell_type": "code",
   "execution_count": null,
   "metadata": {},
   "outputs": [
    {
     "ename": "AttributeError",
     "evalue": "'list' object has no attribute 'mean'",
     "output_type": "error",
     "traceback": [
      "\u001b[1;31m---------------------------------------------------------------------------\u001b[0m",
      "\u001b[1;31mAttributeError\u001b[0m                            Traceback (most recent call last)",
      "Cell \u001b[1;32mIn[9], line 1\u001b[0m\n\u001b[1;32m----> 1\u001b[0m \u001b[43mse\u001b[49m\u001b[38;5;241;43m.\u001b[39;49m\u001b[43mmean\u001b[49m()\n",
      "\u001b[1;31mAttributeError\u001b[0m: 'list' object has no attribute 'mean'"
     ]
    }
   ],
   "source": [
    "se.mean()"
   ]
  },
  {
   "cell_type": "code",
   "execution_count": null,
   "metadata": {},
   "outputs": [],
   "source": [
    "df=df.rename(columns={'Unnamed: 0':'timestamp'})"
   ]
  },
  {
   "cell_type": "code",
   "execution_count": null,
   "metadata": {},
   "outputs": [],
   "source": [
    "df.set_index('timestamp', inplace=True)"
   ]
  },
  {
   "cell_type": "code",
   "execution_count": null,
   "metadata": {},
   "outputs": [
    {
     "data": {
      "text/plain": [
       "(16, 46)"
      ]
     },
     "execution_count": 6,
     "metadata": {},
     "output_type": "execute_result"
    }
   ],
   "source": [
    "df.shape"
   ]
  },
  {
   "cell_type": "code",
   "execution_count": null,
   "metadata": {},
   "outputs": [
    {
     "data": {
      "text/html": [
       "<div>\n",
       "<style scoped>\n",
       "    .dataframe tbody tr th:only-of-type {\n",
       "        vertical-align: middle;\n",
       "    }\n",
       "\n",
       "    .dataframe tbody tr th {\n",
       "        vertical-align: top;\n",
       "    }\n",
       "\n",
       "    .dataframe thead th {\n",
       "        text-align: right;\n",
       "    }\n",
       "</style>\n",
       "<table border=\"1\" class=\"dataframe\">\n",
       "  <thead>\n",
       "    <tr style=\"text-align: right;\">\n",
       "      <th></th>\n",
       "      <th>bitcoin_price</th>\n",
       "      <th>bitcoin_volume</th>\n",
       "      <th>bitcoin_market_cap</th>\n",
       "      <th>bitcoin_returns</th>\n",
       "      <th>bitcoin_volatility</th>\n",
       "      <th>score</th>\n",
       "      <th>No_Comments</th>\n",
       "      <th>title_sentiment</th>\n",
       "      <th>description_sentiment</th>\n",
       "      <th>score_lag1</th>\n",
       "      <th>...</th>\n",
       "      <th>description_sentiment_lag7</th>\n",
       "      <th>sentiment</th>\n",
       "      <th>sentiment1</th>\n",
       "      <th>sentiment2</th>\n",
       "      <th>sentiment3</th>\n",
       "      <th>sentiment4</th>\n",
       "      <th>sentiment5</th>\n",
       "      <th>sentiment6</th>\n",
       "      <th>sentiment7</th>\n",
       "      <th>total_sentiment</th>\n",
       "    </tr>\n",
       "    <tr>\n",
       "      <th>timestamp</th>\n",
       "      <th></th>\n",
       "      <th></th>\n",
       "      <th></th>\n",
       "      <th></th>\n",
       "      <th></th>\n",
       "      <th></th>\n",
       "      <th></th>\n",
       "      <th></th>\n",
       "      <th></th>\n",
       "      <th></th>\n",
       "      <th></th>\n",
       "      <th></th>\n",
       "      <th></th>\n",
       "      <th></th>\n",
       "      <th></th>\n",
       "      <th></th>\n",
       "      <th></th>\n",
       "      <th></th>\n",
       "      <th></th>\n",
       "      <th></th>\n",
       "      <th></th>\n",
       "    </tr>\n",
       "  </thead>\n",
       "  <tbody>\n",
       "    <tr>\n",
       "      <th>2024-09-24</th>\n",
       "      <td>63327.026545</td>\n",
       "      <td>2.399885e+10</td>\n",
       "      <td>1.251095e+12</td>\n",
       "      <td>-0.000882</td>\n",
       "      <td>0.397836</td>\n",
       "      <td>7.000000</td>\n",
       "      <td>11.0</td>\n",
       "      <td>-0.966808</td>\n",
       "      <td>-0.249912</td>\n",
       "      <td>29.667235</td>\n",
       "      <td>...</td>\n",
       "      <td>-0.066157</td>\n",
       "      <td>-0.608360</td>\n",
       "      <td>-0.225495</td>\n",
       "      <td>-0.231196</td>\n",
       "      <td>-0.242698</td>\n",
       "      <td>-0.25057</td>\n",
       "      <td>-0.248735</td>\n",
       "      <td>-0.247549</td>\n",
       "      <td>-0.278639</td>\n",
       "      <td>-0.291655</td>\n",
       "    </tr>\n",
       "    <tr>\n",
       "      <th>2024-09-25</th>\n",
       "      <td>64334.142749</td>\n",
       "      <td>3.149098e+10</td>\n",
       "      <td>1.271184e+12</td>\n",
       "      <td>0.015903</td>\n",
       "      <td>0.397836</td>\n",
       "      <td>29.273970</td>\n",
       "      <td>114.0</td>\n",
       "      <td>-0.417772</td>\n",
       "      <td>-0.023243</td>\n",
       "      <td>7.000000</td>\n",
       "      <td>...</td>\n",
       "      <td>-0.066157</td>\n",
       "      <td>-0.220508</td>\n",
       "      <td>-0.608360</td>\n",
       "      <td>-0.231196</td>\n",
       "      <td>-0.242698</td>\n",
       "      <td>-0.25057</td>\n",
       "      <td>-0.248735</td>\n",
       "      <td>-0.247549</td>\n",
       "      <td>-0.278639</td>\n",
       "      <td>-0.291032</td>\n",
       "    </tr>\n",
       "    <tr>\n",
       "      <th>2024-09-26</th>\n",
       "      <td>63151.899594</td>\n",
       "      <td>2.608764e+10</td>\n",
       "      <td>1.245721e+12</td>\n",
       "      <td>-0.018377</td>\n",
       "      <td>0.397836</td>\n",
       "      <td>42.666667</td>\n",
       "      <td>16.0</td>\n",
       "      <td>-0.321892</td>\n",
       "      <td>-0.500518</td>\n",
       "      <td>29.273970</td>\n",
       "      <td>...</td>\n",
       "      <td>-0.066157</td>\n",
       "      <td>-0.411205</td>\n",
       "      <td>-0.220508</td>\n",
       "      <td>-0.608360</td>\n",
       "      <td>-0.242698</td>\n",
       "      <td>-0.25057</td>\n",
       "      <td>-0.248735</td>\n",
       "      <td>-0.247549</td>\n",
       "      <td>-0.278639</td>\n",
       "      <td>-0.313533</td>\n",
       "    </tr>\n",
       "    <tr>\n",
       "      <th>2024-09-27</th>\n",
       "      <td>65130.768840</td>\n",
       "      <td>3.799557e+10</td>\n",
       "      <td>1.287151e+12</td>\n",
       "      <td>0.031335</td>\n",
       "      <td>0.397836</td>\n",
       "      <td>2.181818</td>\n",
       "      <td>4.0</td>\n",
       "      <td>-0.648641</td>\n",
       "      <td>0.362800</td>\n",
       "      <td>42.666667</td>\n",
       "      <td>...</td>\n",
       "      <td>-0.066157</td>\n",
       "      <td>-0.142921</td>\n",
       "      <td>-0.411205</td>\n",
       "      <td>-0.220508</td>\n",
       "      <td>-0.608360</td>\n",
       "      <td>-0.25057</td>\n",
       "      <td>-0.248735</td>\n",
       "      <td>-0.247549</td>\n",
       "      <td>-0.278639</td>\n",
       "      <td>-0.301061</td>\n",
       "    </tr>\n",
       "    <tr>\n",
       "      <th>2024-09-28</th>\n",
       "      <td>65791.002125</td>\n",
       "      <td>3.266492e+10</td>\n",
       "      <td>1.299708e+12</td>\n",
       "      <td>0.010137</td>\n",
       "      <td>0.397836</td>\n",
       "      <td>2.571429</td>\n",
       "      <td>22.0</td>\n",
       "      <td>-0.441387</td>\n",
       "      <td>-0.069390</td>\n",
       "      <td>2.181818</td>\n",
       "      <td>...</td>\n",
       "      <td>-0.066157</td>\n",
       "      <td>-0.255388</td>\n",
       "      <td>-0.142921</td>\n",
       "      <td>-0.411205</td>\n",
       "      <td>-0.220508</td>\n",
       "      <td>-0.60836</td>\n",
       "      <td>-0.248735</td>\n",
       "      <td>-0.247549</td>\n",
       "      <td>-0.278639</td>\n",
       "      <td>-0.301663</td>\n",
       "    </tr>\n",
       "  </tbody>\n",
       "</table>\n",
       "<p>5 rows × 46 columns</p>\n",
       "</div>"
      ],
      "text/plain": [
       "            bitcoin_price  bitcoin_volume  bitcoin_market_cap  \\\n",
       "timestamp                                                       \n",
       "2024-09-24   63327.026545    2.399885e+10        1.251095e+12   \n",
       "2024-09-25   64334.142749    3.149098e+10        1.271184e+12   \n",
       "2024-09-26   63151.899594    2.608764e+10        1.245721e+12   \n",
       "2024-09-27   65130.768840    3.799557e+10        1.287151e+12   \n",
       "2024-09-28   65791.002125    3.266492e+10        1.299708e+12   \n",
       "\n",
       "            bitcoin_returns  bitcoin_volatility      score  No_Comments  \\\n",
       "timestamp                                                                 \n",
       "2024-09-24        -0.000882            0.397836   7.000000         11.0   \n",
       "2024-09-25         0.015903            0.397836  29.273970        114.0   \n",
       "2024-09-26        -0.018377            0.397836  42.666667         16.0   \n",
       "2024-09-27         0.031335            0.397836   2.181818          4.0   \n",
       "2024-09-28         0.010137            0.397836   2.571429         22.0   \n",
       "\n",
       "            title_sentiment  description_sentiment  score_lag1  ...  \\\n",
       "timestamp                                                       ...   \n",
       "2024-09-24        -0.966808              -0.249912   29.667235  ...   \n",
       "2024-09-25        -0.417772              -0.023243    7.000000  ...   \n",
       "2024-09-26        -0.321892              -0.500518   29.273970  ...   \n",
       "2024-09-27        -0.648641               0.362800   42.666667  ...   \n",
       "2024-09-28        -0.441387              -0.069390    2.181818  ...   \n",
       "\n",
       "            description_sentiment_lag7  sentiment  sentiment1  sentiment2  \\\n",
       "timestamp                                                                   \n",
       "2024-09-24                   -0.066157  -0.608360   -0.225495   -0.231196   \n",
       "2024-09-25                   -0.066157  -0.220508   -0.608360   -0.231196   \n",
       "2024-09-26                   -0.066157  -0.411205   -0.220508   -0.608360   \n",
       "2024-09-27                   -0.066157  -0.142921   -0.411205   -0.220508   \n",
       "2024-09-28                   -0.066157  -0.255388   -0.142921   -0.411205   \n",
       "\n",
       "            sentiment3  sentiment4  sentiment5  sentiment6  sentiment7  \\\n",
       "timestamp                                                                \n",
       "2024-09-24   -0.242698    -0.25057   -0.248735   -0.247549   -0.278639   \n",
       "2024-09-25   -0.242698    -0.25057   -0.248735   -0.247549   -0.278639   \n",
       "2024-09-26   -0.242698    -0.25057   -0.248735   -0.247549   -0.278639   \n",
       "2024-09-27   -0.608360    -0.25057   -0.248735   -0.247549   -0.278639   \n",
       "2024-09-28   -0.220508    -0.60836   -0.248735   -0.247549   -0.278639   \n",
       "\n",
       "            total_sentiment  \n",
       "timestamp                    \n",
       "2024-09-24        -0.291655  \n",
       "2024-09-25        -0.291032  \n",
       "2024-09-26        -0.313533  \n",
       "2024-09-27        -0.301061  \n",
       "2024-09-28        -0.301663  \n",
       "\n",
       "[5 rows x 46 columns]"
      ]
     },
     "execution_count": 7,
     "metadata": {},
     "output_type": "execute_result"
    }
   ],
   "source": [
    "df.head()"
   ]
  }
 ],
 "metadata": {
  "kernelspec": {
   "display_name": "cryptoenv",
   "language": "python",
   "name": "python3"
  },
  "language_info": {
   "codemirror_mode": {
    "name": "ipython",
    "version": 3
   },
   "file_extension": ".py",
   "mimetype": "text/x-python",
   "name": "python",
   "nbconvert_exporter": "python",
   "pygments_lexer": "ipython3",
   "version": "3.9.0"
  }
 },
 "nbformat": 4,
 "nbformat_minor": 2
}
