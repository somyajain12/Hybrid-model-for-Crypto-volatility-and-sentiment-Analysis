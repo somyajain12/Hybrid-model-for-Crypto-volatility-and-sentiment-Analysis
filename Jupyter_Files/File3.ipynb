{
 "cells": [
  {
   "cell_type": "code",
   "execution_count": 10,
   "metadata": {},
   "outputs": [],
   "source": [
    "import pandas as pd"
   ]
  },
  {
   "cell_type": "code",
   "execution_count": 11,
   "metadata": {},
   "outputs": [],
   "source": [
    "reddit_data = pd.read_csv('C:/Users/somya/Downloads/Hybrid Model for Crypto Volatility Prediction using Sentiment Analysis/Data_set/reddit_data_5years.csv')"
   ]
  },
  {
   "cell_type": "code",
   "execution_count": 12,
   "metadata": {},
   "outputs": [
    {
     "data": {
      "text/html": [
       "<div>\n",
       "<style scoped>\n",
       "    .dataframe tbody tr th:only-of-type {\n",
       "        vertical-align: middle;\n",
       "    }\n",
       "\n",
       "    .dataframe tbody tr th {\n",
       "        vertical-align: top;\n",
       "    }\n",
       "\n",
       "    .dataframe thead th {\n",
       "        text-align: right;\n",
       "    }\n",
       "</style>\n",
       "<table border=\"1\" class=\"dataframe\">\n",
       "  <thead>\n",
       "    <tr style=\"text-align: right;\">\n",
       "      <th></th>\n",
       "      <th>title</th>\n",
       "      <th>score</th>\n",
       "      <th>id</th>\n",
       "      <th>url</th>\n",
       "      <th>No_Comments</th>\n",
       "      <th>created</th>\n",
       "      <th>Description</th>\n",
       "    </tr>\n",
       "  </thead>\n",
       "  <tbody>\n",
       "    <tr>\n",
       "      <th>0</th>\n",
       "      <td>Bitcoin Newcomers FAQ - Please read!</td>\n",
       "      <td>47</td>\n",
       "      <td>1jwz2d3</td>\n",
       "      <td>https://www.reddit.com/r/Bitcoin/comments/1jwz...</td>\n",
       "      <td>10</td>\n",
       "      <td>2025-04-11 14:59:15</td>\n",
       "      <td># Welcome to the /r/Bitcoin Newcomers FAQ\\n\\nY...</td>\n",
       "    </tr>\n",
       "    <tr>\n",
       "      <th>1</th>\n",
       "      <td>Daily Discussion, April 27, 2025</td>\n",
       "      <td>32</td>\n",
       "      <td>1k8x7kr</td>\n",
       "      <td>https://www.reddit.com/r/Bitcoin/comments/1k8x...</td>\n",
       "      <td>30</td>\n",
       "      <td>2025-04-27 01:10:11</td>\n",
       "      <td>Please utilize this sticky thread for all gene...</td>\n",
       "    </tr>\n",
       "    <tr>\n",
       "      <th>2</th>\n",
       "      <td>In this SPAR supermarket in 🇨🇭 Switzerland you...</td>\n",
       "      <td>204</td>\n",
       "      <td>1k9ak5c</td>\n",
       "      <td>https://v.redd.it/9awfpgln5fxe1</td>\n",
       "      <td>17</td>\n",
       "      <td>2025-04-27 13:16:28</td>\n",
       "      <td>NaN</td>\n",
       "    </tr>\n",
       "    <tr>\n",
       "      <th>3</th>\n",
       "      <td>The Window is Closing ⏳</td>\n",
       "      <td>1442</td>\n",
       "      <td>1k8ycby</td>\n",
       "      <td>https://i.redd.it/qf38fww7ybxe1.jpeg</td>\n",
       "      <td>288</td>\n",
       "      <td>2025-04-27 02:29:21</td>\n",
       "      <td>There are ~56 million millionaires in the worl...</td>\n",
       "    </tr>\n",
       "    <tr>\n",
       "      <th>4</th>\n",
       "      <td>JUST IN: Bitcoin payments are expanding to all...</td>\n",
       "      <td>160</td>\n",
       "      <td>1k9amsq</td>\n",
       "      <td>https://i.redd.it/axevcif86fxe1.jpeg</td>\n",
       "      <td>3</td>\n",
       "      <td>2025-04-27 13:19:42</td>\n",
       "      <td>NaN</td>\n",
       "    </tr>\n",
       "  </tbody>\n",
       "</table>\n",
       "</div>"
      ],
      "text/plain": [
       "                                               title  score       id  \\\n",
       "0               Bitcoin Newcomers FAQ - Please read!     47  1jwz2d3   \n",
       "1                   Daily Discussion, April 27, 2025     32  1k8x7kr   \n",
       "2  In this SPAR supermarket in 🇨🇭 Switzerland you...    204  1k9ak5c   \n",
       "3                            The Window is Closing ⏳   1442  1k8ycby   \n",
       "4  JUST IN: Bitcoin payments are expanding to all...    160  1k9amsq   \n",
       "\n",
       "                                                 url  No_Comments  \\\n",
       "0  https://www.reddit.com/r/Bitcoin/comments/1jwz...           10   \n",
       "1  https://www.reddit.com/r/Bitcoin/comments/1k8x...           30   \n",
       "2                    https://v.redd.it/9awfpgln5fxe1           17   \n",
       "3               https://i.redd.it/qf38fww7ybxe1.jpeg          288   \n",
       "4               https://i.redd.it/axevcif86fxe1.jpeg            3   \n",
       "\n",
       "               created                                        Description  \n",
       "0  2025-04-11 14:59:15  # Welcome to the /r/Bitcoin Newcomers FAQ\\n\\nY...  \n",
       "1  2025-04-27 01:10:11  Please utilize this sticky thread for all gene...  \n",
       "2  2025-04-27 13:16:28                                                NaN  \n",
       "3  2025-04-27 02:29:21  There are ~56 million millionaires in the worl...  \n",
       "4  2025-04-27 13:19:42                                                NaN  "
      ]
     },
     "execution_count": 12,
     "metadata": {},
     "output_type": "execute_result"
    }
   ],
   "source": [
    "reddit_data.head()"
   ]
  },
  {
   "cell_type": "code",
   "execution_count": 13,
   "metadata": {},
   "outputs": [],
   "source": [
    "reddit_data = reddit_data.loc[:, ~reddit_data.columns.str.contains('^Unnamed')]"
   ]
  },
  {
   "cell_type": "code",
   "execution_count": 14,
   "metadata": {},
   "outputs": [
    {
     "data": {
      "text/html": [
       "<div>\n",
       "<style scoped>\n",
       "    .dataframe tbody tr th:only-of-type {\n",
       "        vertical-align: middle;\n",
       "    }\n",
       "\n",
       "    .dataframe tbody tr th {\n",
       "        vertical-align: top;\n",
       "    }\n",
       "\n",
       "    .dataframe thead th {\n",
       "        text-align: right;\n",
       "    }\n",
       "</style>\n",
       "<table border=\"1\" class=\"dataframe\">\n",
       "  <thead>\n",
       "    <tr style=\"text-align: right;\">\n",
       "      <th></th>\n",
       "      <th>title</th>\n",
       "      <th>score</th>\n",
       "      <th>id</th>\n",
       "      <th>url</th>\n",
       "      <th>No_Comments</th>\n",
       "      <th>created</th>\n",
       "      <th>Description</th>\n",
       "    </tr>\n",
       "  </thead>\n",
       "  <tbody>\n",
       "    <tr>\n",
       "      <th>0</th>\n",
       "      <td>Bitcoin Newcomers FAQ - Please read!</td>\n",
       "      <td>47</td>\n",
       "      <td>1jwz2d3</td>\n",
       "      <td>https://www.reddit.com/r/Bitcoin/comments/1jwz...</td>\n",
       "      <td>10</td>\n",
       "      <td>2025-04-11 14:59:15</td>\n",
       "      <td># Welcome to the /r/Bitcoin Newcomers FAQ\\n\\nY...</td>\n",
       "    </tr>\n",
       "    <tr>\n",
       "      <th>1</th>\n",
       "      <td>Daily Discussion, April 27, 2025</td>\n",
       "      <td>32</td>\n",
       "      <td>1k8x7kr</td>\n",
       "      <td>https://www.reddit.com/r/Bitcoin/comments/1k8x...</td>\n",
       "      <td>30</td>\n",
       "      <td>2025-04-27 01:10:11</td>\n",
       "      <td>Please utilize this sticky thread for all gene...</td>\n",
       "    </tr>\n",
       "    <tr>\n",
       "      <th>2</th>\n",
       "      <td>In this SPAR supermarket in 🇨🇭 Switzerland you...</td>\n",
       "      <td>204</td>\n",
       "      <td>1k9ak5c</td>\n",
       "      <td>https://v.redd.it/9awfpgln5fxe1</td>\n",
       "      <td>17</td>\n",
       "      <td>2025-04-27 13:16:28</td>\n",
       "      <td>NaN</td>\n",
       "    </tr>\n",
       "    <tr>\n",
       "      <th>3</th>\n",
       "      <td>The Window is Closing ⏳</td>\n",
       "      <td>1442</td>\n",
       "      <td>1k8ycby</td>\n",
       "      <td>https://i.redd.it/qf38fww7ybxe1.jpeg</td>\n",
       "      <td>288</td>\n",
       "      <td>2025-04-27 02:29:21</td>\n",
       "      <td>There are ~56 million millionaires in the worl...</td>\n",
       "    </tr>\n",
       "    <tr>\n",
       "      <th>4</th>\n",
       "      <td>JUST IN: Bitcoin payments are expanding to all...</td>\n",
       "      <td>160</td>\n",
       "      <td>1k9amsq</td>\n",
       "      <td>https://i.redd.it/axevcif86fxe1.jpeg</td>\n",
       "      <td>3</td>\n",
       "      <td>2025-04-27 13:19:42</td>\n",
       "      <td>NaN</td>\n",
       "    </tr>\n",
       "  </tbody>\n",
       "</table>\n",
       "</div>"
      ],
      "text/plain": [
       "                                               title  score       id  \\\n",
       "0               Bitcoin Newcomers FAQ - Please read!     47  1jwz2d3   \n",
       "1                   Daily Discussion, April 27, 2025     32  1k8x7kr   \n",
       "2  In this SPAR supermarket in 🇨🇭 Switzerland you...    204  1k9ak5c   \n",
       "3                            The Window is Closing ⏳   1442  1k8ycby   \n",
       "4  JUST IN: Bitcoin payments are expanding to all...    160  1k9amsq   \n",
       "\n",
       "                                                 url  No_Comments  \\\n",
       "0  https://www.reddit.com/r/Bitcoin/comments/1jwz...           10   \n",
       "1  https://www.reddit.com/r/Bitcoin/comments/1k8x...           30   \n",
       "2                    https://v.redd.it/9awfpgln5fxe1           17   \n",
       "3               https://i.redd.it/qf38fww7ybxe1.jpeg          288   \n",
       "4               https://i.redd.it/axevcif86fxe1.jpeg            3   \n",
       "\n",
       "               created                                        Description  \n",
       "0  2025-04-11 14:59:15  # Welcome to the /r/Bitcoin Newcomers FAQ\\n\\nY...  \n",
       "1  2025-04-27 01:10:11  Please utilize this sticky thread for all gene...  \n",
       "2  2025-04-27 13:16:28                                                NaN  \n",
       "3  2025-04-27 02:29:21  There are ~56 million millionaires in the worl...  \n",
       "4  2025-04-27 13:19:42                                                NaN  "
      ]
     },
     "execution_count": 14,
     "metadata": {},
     "output_type": "execute_result"
    }
   ],
   "source": [
    "reddit_data.head()"
   ]
  },
  {
   "cell_type": "code",
   "execution_count": 15,
   "metadata": {},
   "outputs": [
    {
     "name": "stdout",
     "output_type": "stream",
     "text": [
      "0\n",
      "object\n"
     ]
    }
   ],
   "source": [
    "print(reddit_data['title'].isnull().sum())\n",
    "print(reddit_data['title'].dtype)"
   ]
  },
  {
   "cell_type": "code",
   "execution_count": 16,
   "metadata": {},
   "outputs": [
    {
     "data": {
      "text/plain": [
       "1492"
      ]
     },
     "execution_count": 16,
     "metadata": {},
     "output_type": "execute_result"
    }
   ],
   "source": [
    "reddit_data['Description'].isnull().sum()"
   ]
  },
  {
   "cell_type": "code",
   "execution_count": 17,
   "metadata": {},
   "outputs": [],
   "source": [
    "reddit_data['Description']=reddit_data['Description'].fillna(reddit_data['title'])"
   ]
  },
  {
   "cell_type": "code",
   "execution_count": 18,
   "metadata": {},
   "outputs": [
    {
     "data": {
      "text/html": [
       "<div>\n",
       "<style scoped>\n",
       "    .dataframe tbody tr th:only-of-type {\n",
       "        vertical-align: middle;\n",
       "    }\n",
       "\n",
       "    .dataframe tbody tr th {\n",
       "        vertical-align: top;\n",
       "    }\n",
       "\n",
       "    .dataframe thead th {\n",
       "        text-align: right;\n",
       "    }\n",
       "</style>\n",
       "<table border=\"1\" class=\"dataframe\">\n",
       "  <thead>\n",
       "    <tr style=\"text-align: right;\">\n",
       "      <th></th>\n",
       "      <th>title</th>\n",
       "      <th>score</th>\n",
       "      <th>id</th>\n",
       "      <th>url</th>\n",
       "      <th>No_Comments</th>\n",
       "      <th>created</th>\n",
       "      <th>Description</th>\n",
       "    </tr>\n",
       "  </thead>\n",
       "  <tbody>\n",
       "    <tr>\n",
       "      <th>0</th>\n",
       "      <td>Bitcoin Newcomers FAQ - Please read!</td>\n",
       "      <td>47</td>\n",
       "      <td>1jwz2d3</td>\n",
       "      <td>https://www.reddit.com/r/Bitcoin/comments/1jwz...</td>\n",
       "      <td>10</td>\n",
       "      <td>2025-04-11 14:59:15</td>\n",
       "      <td># Welcome to the /r/Bitcoin Newcomers FAQ\\n\\nY...</td>\n",
       "    </tr>\n",
       "    <tr>\n",
       "      <th>1</th>\n",
       "      <td>Daily Discussion, April 27, 2025</td>\n",
       "      <td>32</td>\n",
       "      <td>1k8x7kr</td>\n",
       "      <td>https://www.reddit.com/r/Bitcoin/comments/1k8x...</td>\n",
       "      <td>30</td>\n",
       "      <td>2025-04-27 01:10:11</td>\n",
       "      <td>Please utilize this sticky thread for all gene...</td>\n",
       "    </tr>\n",
       "    <tr>\n",
       "      <th>2</th>\n",
       "      <td>In this SPAR supermarket in 🇨🇭 Switzerland you...</td>\n",
       "      <td>204</td>\n",
       "      <td>1k9ak5c</td>\n",
       "      <td>https://v.redd.it/9awfpgln5fxe1</td>\n",
       "      <td>17</td>\n",
       "      <td>2025-04-27 13:16:28</td>\n",
       "      <td>In this SPAR supermarket in 🇨🇭 Switzerland you...</td>\n",
       "    </tr>\n",
       "    <tr>\n",
       "      <th>3</th>\n",
       "      <td>The Window is Closing ⏳</td>\n",
       "      <td>1442</td>\n",
       "      <td>1k8ycby</td>\n",
       "      <td>https://i.redd.it/qf38fww7ybxe1.jpeg</td>\n",
       "      <td>288</td>\n",
       "      <td>2025-04-27 02:29:21</td>\n",
       "      <td>There are ~56 million millionaires in the worl...</td>\n",
       "    </tr>\n",
       "    <tr>\n",
       "      <th>4</th>\n",
       "      <td>JUST IN: Bitcoin payments are expanding to all...</td>\n",
       "      <td>160</td>\n",
       "      <td>1k9amsq</td>\n",
       "      <td>https://i.redd.it/axevcif86fxe1.jpeg</td>\n",
       "      <td>3</td>\n",
       "      <td>2025-04-27 13:19:42</td>\n",
       "      <td>JUST IN: Bitcoin payments are expanding to all...</td>\n",
       "    </tr>\n",
       "  </tbody>\n",
       "</table>\n",
       "</div>"
      ],
      "text/plain": [
       "                                               title  score       id  \\\n",
       "0               Bitcoin Newcomers FAQ - Please read!     47  1jwz2d3   \n",
       "1                   Daily Discussion, April 27, 2025     32  1k8x7kr   \n",
       "2  In this SPAR supermarket in 🇨🇭 Switzerland you...    204  1k9ak5c   \n",
       "3                            The Window is Closing ⏳   1442  1k8ycby   \n",
       "4  JUST IN: Bitcoin payments are expanding to all...    160  1k9amsq   \n",
       "\n",
       "                                                 url  No_Comments  \\\n",
       "0  https://www.reddit.com/r/Bitcoin/comments/1jwz...           10   \n",
       "1  https://www.reddit.com/r/Bitcoin/comments/1k8x...           30   \n",
       "2                    https://v.redd.it/9awfpgln5fxe1           17   \n",
       "3               https://i.redd.it/qf38fww7ybxe1.jpeg          288   \n",
       "4               https://i.redd.it/axevcif86fxe1.jpeg            3   \n",
       "\n",
       "               created                                        Description  \n",
       "0  2025-04-11 14:59:15  # Welcome to the /r/Bitcoin Newcomers FAQ\\n\\nY...  \n",
       "1  2025-04-27 01:10:11  Please utilize this sticky thread for all gene...  \n",
       "2  2025-04-27 13:16:28  In this SPAR supermarket in 🇨🇭 Switzerland you...  \n",
       "3  2025-04-27 02:29:21  There are ~56 million millionaires in the worl...  \n",
       "4  2025-04-27 13:19:42  JUST IN: Bitcoin payments are expanding to all...  "
      ]
     },
     "execution_count": 18,
     "metadata": {},
     "output_type": "execute_result"
    }
   ],
   "source": [
    "reddit_data.head()"
   ]
  },
  {
   "cell_type": "code",
   "execution_count": 19,
   "metadata": {},
   "outputs": [
    {
     "data": {
      "text/plain": [
       "title          0\n",
       "score          0\n",
       "id             0\n",
       "url            0\n",
       "No_Comments    0\n",
       "created        0\n",
       "Description    0\n",
       "dtype: int64"
      ]
     },
     "execution_count": 19,
     "metadata": {},
     "output_type": "execute_result"
    }
   ],
   "source": [
    "reddit_data.isnull().sum()"
   ]
  },
  {
   "cell_type": "code",
   "execution_count": 20,
   "metadata": {},
   "outputs": [
    {
     "data": {
      "text/plain": [
       "'JUST IN: Bitcoin payments are expanding to all 🇨🇭 Swiss Spar supermarkets after successful pilots in Zug and Kreuzlingen. Rollout will begin as soon as possible.'"
      ]
     },
     "execution_count": 20,
     "metadata": {},
     "output_type": "execute_result"
    }
   ],
   "source": [
    "reddit_data['title'][4]"
   ]
  },
  {
   "cell_type": "code",
   "execution_count": 21,
   "metadata": {},
   "outputs": [],
   "source": [
    "import re\n",
    "\n",
    "def preprocess_text(text):\n",
    "    try:\n",
    "        text = re.sub(r'[^a-zA-Z\\s]', '', str(text))\n",
    "        text = text.lower()\n",
    "        return text\n",
    "    except Exception as e:\n",
    "        print(f\"Error processing text: {text[:50]}...\")\n",
    "        print(f\"Error message: {str(e)}\")\n",
    "        return text"
   ]
  },
  {
   "cell_type": "code",
   "execution_count": 22,
   "metadata": {},
   "outputs": [],
   "source": [
    "reddit_data['title'] = reddit_data['title'].apply(preprocess_text)"
   ]
  },
  {
   "cell_type": "code",
   "execution_count": 23,
   "metadata": {},
   "outputs": [
    {
     "data": {
      "text/plain": [
       "0                      bitcoin newcomers faq  please read\n",
       "1                                daily discussion april  \n",
       "2       in this spar supermarket in  switzerland you c...\n",
       "3                                  the window is closing \n",
       "4       just in bitcoin payments are expanding to all ...\n",
       "                              ...                        \n",
       "3167              bitcoin price watch live trade  newsbtc\n",
       "3168                       bitcoin price projections for \n",
       "3169    moviefree a beautiful mind  subtitles movie ip...\n",
       "3170    free book youth by j m coetzee epub kindle acq...\n",
       "3171                               rcryptoanalysis lounge\n",
       "Name: title, Length: 3172, dtype: object"
      ]
     },
     "execution_count": 23,
     "metadata": {},
     "output_type": "execute_result"
    }
   ],
   "source": [
    "reddit_data['title']"
   ]
  },
  {
   "cell_type": "code",
   "execution_count": 24,
   "metadata": {},
   "outputs": [],
   "source": [
    "reddit_data['Description'] = reddit_data['Description'].apply(preprocess_text)"
   ]
  },
  {
   "cell_type": "code",
   "execution_count": 25,
   "metadata": {},
   "outputs": [
    {
     "data": {
      "text/plain": [
       "0        welcome to the rbitcoin newcomers faq\\n\\nyouv...\n",
       "1       please utilize this sticky thread for all gene...\n",
       "2       in this spar supermarket in  switzerland you c...\n",
       "3       there are  million millionaires in the world t...\n",
       "4       just in bitcoin payments are expanding to all ...\n",
       "                              ...                        \n",
       "3167              bitcoin price watch live trade  newsbtc\n",
       "3168                       bitcoin price projections for \n",
       "3169                                                     \n",
       "3170                                        ashley harris\n",
       "3171    a place for members of rcryptoanalysis to chat...\n",
       "Name: Description, Length: 3172, dtype: object"
      ]
     },
     "execution_count": 25,
     "metadata": {},
     "output_type": "execute_result"
    }
   ],
   "source": [
    "reddit_data['Description']"
   ]
  },
  {
   "cell_type": "code",
   "execution_count": 26,
   "metadata": {},
   "outputs": [
    {
     "data": {
      "text/html": [
       "<div>\n",
       "<style scoped>\n",
       "    .dataframe tbody tr th:only-of-type {\n",
       "        vertical-align: middle;\n",
       "    }\n",
       "\n",
       "    .dataframe tbody tr th {\n",
       "        vertical-align: top;\n",
       "    }\n",
       "\n",
       "    .dataframe thead th {\n",
       "        text-align: right;\n",
       "    }\n",
       "</style>\n",
       "<table border=\"1\" class=\"dataframe\">\n",
       "  <thead>\n",
       "    <tr style=\"text-align: right;\">\n",
       "      <th></th>\n",
       "      <th>title</th>\n",
       "      <th>score</th>\n",
       "      <th>id</th>\n",
       "      <th>url</th>\n",
       "      <th>No_Comments</th>\n",
       "      <th>created</th>\n",
       "      <th>Description</th>\n",
       "    </tr>\n",
       "  </thead>\n",
       "  <tbody>\n",
       "    <tr>\n",
       "      <th>0</th>\n",
       "      <td>bitcoin newcomers faq  please read</td>\n",
       "      <td>47</td>\n",
       "      <td>1jwz2d3</td>\n",
       "      <td>https://www.reddit.com/r/Bitcoin/comments/1jwz...</td>\n",
       "      <td>10</td>\n",
       "      <td>2025-04-11 14:59:15</td>\n",
       "      <td>welcome to the rbitcoin newcomers faq\\n\\nyouv...</td>\n",
       "    </tr>\n",
       "    <tr>\n",
       "      <th>1</th>\n",
       "      <td>daily discussion april</td>\n",
       "      <td>32</td>\n",
       "      <td>1k8x7kr</td>\n",
       "      <td>https://www.reddit.com/r/Bitcoin/comments/1k8x...</td>\n",
       "      <td>30</td>\n",
       "      <td>2025-04-27 01:10:11</td>\n",
       "      <td>please utilize this sticky thread for all gene...</td>\n",
       "    </tr>\n",
       "    <tr>\n",
       "      <th>2</th>\n",
       "      <td>in this spar supermarket in  switzerland you c...</td>\n",
       "      <td>204</td>\n",
       "      <td>1k9ak5c</td>\n",
       "      <td>https://v.redd.it/9awfpgln5fxe1</td>\n",
       "      <td>17</td>\n",
       "      <td>2025-04-27 13:16:28</td>\n",
       "      <td>in this spar supermarket in  switzerland you c...</td>\n",
       "    </tr>\n",
       "    <tr>\n",
       "      <th>3</th>\n",
       "      <td>the window is closing</td>\n",
       "      <td>1442</td>\n",
       "      <td>1k8ycby</td>\n",
       "      <td>https://i.redd.it/qf38fww7ybxe1.jpeg</td>\n",
       "      <td>288</td>\n",
       "      <td>2025-04-27 02:29:21</td>\n",
       "      <td>there are  million millionaires in the world t...</td>\n",
       "    </tr>\n",
       "    <tr>\n",
       "      <th>4</th>\n",
       "      <td>just in bitcoin payments are expanding to all ...</td>\n",
       "      <td>160</td>\n",
       "      <td>1k9amsq</td>\n",
       "      <td>https://i.redd.it/axevcif86fxe1.jpeg</td>\n",
       "      <td>3</td>\n",
       "      <td>2025-04-27 13:19:42</td>\n",
       "      <td>just in bitcoin payments are expanding to all ...</td>\n",
       "    </tr>\n",
       "  </tbody>\n",
       "</table>\n",
       "</div>"
      ],
      "text/plain": [
       "                                               title  score       id  \\\n",
       "0                 bitcoin newcomers faq  please read     47  1jwz2d3   \n",
       "1                           daily discussion april       32  1k8x7kr   \n",
       "2  in this spar supermarket in  switzerland you c...    204  1k9ak5c   \n",
       "3                             the window is closing    1442  1k8ycby   \n",
       "4  just in bitcoin payments are expanding to all ...    160  1k9amsq   \n",
       "\n",
       "                                                 url  No_Comments  \\\n",
       "0  https://www.reddit.com/r/Bitcoin/comments/1jwz...           10   \n",
       "1  https://www.reddit.com/r/Bitcoin/comments/1k8x...           30   \n",
       "2                    https://v.redd.it/9awfpgln5fxe1           17   \n",
       "3               https://i.redd.it/qf38fww7ybxe1.jpeg          288   \n",
       "4               https://i.redd.it/axevcif86fxe1.jpeg            3   \n",
       "\n",
       "               created                                        Description  \n",
       "0  2025-04-11 14:59:15   welcome to the rbitcoin newcomers faq\\n\\nyouv...  \n",
       "1  2025-04-27 01:10:11  please utilize this sticky thread for all gene...  \n",
       "2  2025-04-27 13:16:28  in this spar supermarket in  switzerland you c...  \n",
       "3  2025-04-27 02:29:21  there are  million millionaires in the world t...  \n",
       "4  2025-04-27 13:19:42  just in bitcoin payments are expanding to all ...  "
      ]
     },
     "execution_count": 26,
     "metadata": {},
     "output_type": "execute_result"
    }
   ],
   "source": [
    "reddit_data.head()"
   ]
  },
  {
   "cell_type": "code",
   "execution_count": 27,
   "metadata": {},
   "outputs": [],
   "source": [
    "from transformers import DistilBertTokenizer, DistilBertForSequenceClassification\n",
    "import torch"
   ]
  },
  {
   "cell_type": "code",
   "execution_count": 28,
   "metadata": {},
   "outputs": [
    {
     "name": "stderr",
     "output_type": "stream",
     "text": [
      "c:\\Users\\somya\\anaconda3\\Lib\\site-packages\\huggingface_hub\\file_download.py:896: FutureWarning: `resume_download` is deprecated and will be removed in version 1.0.0. Downloads always resume when possible. If you want to force a new download, use `force_download=True`.\n",
      "  warnings.warn(\n"
     ]
    }
   ],
   "source": [
    "tokenizer = DistilBertTokenizer.from_pretrained('distilbert-base-uncased-finetuned-sst-2-english')"
   ]
  },
  {
   "cell_type": "code",
   "execution_count": 29,
   "metadata": {},
   "outputs": [],
   "source": [
    "model = DistilBertForSequenceClassification.from_pretrained('distilbert-base-uncased-finetuned-sst-2-english')"
   ]
  },
  {
   "cell_type": "code",
   "execution_count": 30,
   "metadata": {},
   "outputs": [],
   "source": [
    "inputs = tokenizer(reddit_data['title'].tolist(), padding=True, truncation=True, return_tensors=\"pt\")"
   ]
  },
  {
   "cell_type": "code",
   "execution_count": 31,
   "metadata": {},
   "outputs": [],
   "source": [
    "with torch.no_grad():\n",
    "    outputs = model(**inputs)\n"
   ]
  },
  {
   "cell_type": "code",
   "execution_count": 32,
   "metadata": {},
   "outputs": [
    {
     "data": {
      "text/plain": [
       "SequenceClassifierOutput(loss=None, logits=tensor([[-2.4078,  2.4065],\n",
       "        [-2.1417,  2.2021],\n",
       "        [ 3.3003, -2.7468],\n",
       "        ...,\n",
       "        [-0.5458,  0.6291],\n",
       "        [ 2.5504, -2.1872],\n",
       "        [ 1.2208, -1.0480]]), hidden_states=None, attentions=None)"
      ]
     },
     "execution_count": 32,
     "metadata": {},
     "output_type": "execute_result"
    }
   ],
   "source": [
    "outputs"
   ]
  },
  {
   "cell_type": "code",
   "execution_count": 33,
   "metadata": {},
   "outputs": [],
   "source": [
    "logits = outputs.logits"
   ]
  },
  {
   "cell_type": "code",
   "execution_count": 34,
   "metadata": {},
   "outputs": [
    {
     "data": {
      "text/plain": [
       "tensor([[-2.4078,  2.4065],\n",
       "        [-2.1417,  2.2021],\n",
       "        [ 3.3003, -2.7468],\n",
       "        ...,\n",
       "        [-0.5458,  0.6291],\n",
       "        [ 2.5504, -2.1872],\n",
       "        [ 1.2208, -1.0480]])"
      ]
     },
     "execution_count": 34,
     "metadata": {},
     "output_type": "execute_result"
    }
   ],
   "source": [
    "logits"
   ]
  },
  {
   "cell_type": "code",
   "execution_count": 35,
   "metadata": {},
   "outputs": [],
   "source": [
    "probabilities = torch.nn.functional.softmax(logits, dim=1)"
   ]
  },
  {
   "cell_type": "code",
   "execution_count": 36,
   "metadata": {},
   "outputs": [
    {
     "data": {
      "text/plain": [
       "tensor([[0.0080, 0.9920],\n",
       "        [0.0128, 0.9872],\n",
       "        [0.9976, 0.0024],\n",
       "        ...,\n",
       "        [0.2360, 0.7640],\n",
       "        [0.9913, 0.0087],\n",
       "        [0.9063, 0.0937]])"
      ]
     },
     "execution_count": 36,
     "metadata": {},
     "output_type": "execute_result"
    }
   ],
   "source": [
    "probabilities"
   ]
  },
  {
   "cell_type": "code",
   "execution_count": 37,
   "metadata": {},
   "outputs": [],
   "source": [
    "reddit_data['title_sentiment'] = 2 * probabilities[:, 1].numpy() - 1"
   ]
  },
  {
   "cell_type": "code",
   "execution_count": 38,
   "metadata": {},
   "outputs": [
    {
     "data": {
      "text/html": [
       "<div>\n",
       "<style scoped>\n",
       "    .dataframe tbody tr th:only-of-type {\n",
       "        vertical-align: middle;\n",
       "    }\n",
       "\n",
       "    .dataframe tbody tr th {\n",
       "        vertical-align: top;\n",
       "    }\n",
       "\n",
       "    .dataframe thead th {\n",
       "        text-align: right;\n",
       "    }\n",
       "</style>\n",
       "<table border=\"1\" class=\"dataframe\">\n",
       "  <thead>\n",
       "    <tr style=\"text-align: right;\">\n",
       "      <th></th>\n",
       "      <th>title</th>\n",
       "      <th>score</th>\n",
       "      <th>id</th>\n",
       "      <th>url</th>\n",
       "      <th>No_Comments</th>\n",
       "      <th>created</th>\n",
       "      <th>Description</th>\n",
       "      <th>title_sentiment</th>\n",
       "    </tr>\n",
       "  </thead>\n",
       "  <tbody>\n",
       "    <tr>\n",
       "      <th>0</th>\n",
       "      <td>bitcoin newcomers faq  please read</td>\n",
       "      <td>47</td>\n",
       "      <td>1jwz2d3</td>\n",
       "      <td>https://www.reddit.com/r/Bitcoin/comments/1jwz...</td>\n",
       "      <td>10</td>\n",
       "      <td>2025-04-11 14:59:15</td>\n",
       "      <td>welcome to the rbitcoin newcomers faq\\n\\nyouv...</td>\n",
       "      <td>0.983905</td>\n",
       "    </tr>\n",
       "    <tr>\n",
       "      <th>1</th>\n",
       "      <td>daily discussion april</td>\n",
       "      <td>32</td>\n",
       "      <td>1k8x7kr</td>\n",
       "      <td>https://www.reddit.com/r/Bitcoin/comments/1k8x...</td>\n",
       "      <td>30</td>\n",
       "      <td>2025-04-27 01:10:11</td>\n",
       "      <td>please utilize this sticky thread for all gene...</td>\n",
       "      <td>0.974359</td>\n",
       "    </tr>\n",
       "    <tr>\n",
       "      <th>2</th>\n",
       "      <td>in this spar supermarket in  switzerland you c...</td>\n",
       "      <td>204</td>\n",
       "      <td>1k9ak5c</td>\n",
       "      <td>https://v.redd.it/9awfpgln5fxe1</td>\n",
       "      <td>17</td>\n",
       "      <td>2025-04-27 13:16:28</td>\n",
       "      <td>in this spar supermarket in  switzerland you c...</td>\n",
       "      <td>-0.995282</td>\n",
       "    </tr>\n",
       "    <tr>\n",
       "      <th>3</th>\n",
       "      <td>the window is closing</td>\n",
       "      <td>1442</td>\n",
       "      <td>1k8ycby</td>\n",
       "      <td>https://i.redd.it/qf38fww7ybxe1.jpeg</td>\n",
       "      <td>288</td>\n",
       "      <td>2025-04-27 02:29:21</td>\n",
       "      <td>there are  million millionaires in the world t...</td>\n",
       "      <td>-0.956648</td>\n",
       "    </tr>\n",
       "    <tr>\n",
       "      <th>4</th>\n",
       "      <td>just in bitcoin payments are expanding to all ...</td>\n",
       "      <td>160</td>\n",
       "      <td>1k9amsq</td>\n",
       "      <td>https://i.redd.it/axevcif86fxe1.jpeg</td>\n",
       "      <td>3</td>\n",
       "      <td>2025-04-27 13:19:42</td>\n",
       "      <td>just in bitcoin payments are expanding to all ...</td>\n",
       "      <td>-0.761803</td>\n",
       "    </tr>\n",
       "  </tbody>\n",
       "</table>\n",
       "</div>"
      ],
      "text/plain": [
       "                                               title  score       id  \\\n",
       "0                 bitcoin newcomers faq  please read     47  1jwz2d3   \n",
       "1                           daily discussion april       32  1k8x7kr   \n",
       "2  in this spar supermarket in  switzerland you c...    204  1k9ak5c   \n",
       "3                             the window is closing    1442  1k8ycby   \n",
       "4  just in bitcoin payments are expanding to all ...    160  1k9amsq   \n",
       "\n",
       "                                                 url  No_Comments  \\\n",
       "0  https://www.reddit.com/r/Bitcoin/comments/1jwz...           10   \n",
       "1  https://www.reddit.com/r/Bitcoin/comments/1k8x...           30   \n",
       "2                    https://v.redd.it/9awfpgln5fxe1           17   \n",
       "3               https://i.redd.it/qf38fww7ybxe1.jpeg          288   \n",
       "4               https://i.redd.it/axevcif86fxe1.jpeg            3   \n",
       "\n",
       "               created                                        Description  \\\n",
       "0  2025-04-11 14:59:15   welcome to the rbitcoin newcomers faq\\n\\nyouv...   \n",
       "1  2025-04-27 01:10:11  please utilize this sticky thread for all gene...   \n",
       "2  2025-04-27 13:16:28  in this spar supermarket in  switzerland you c...   \n",
       "3  2025-04-27 02:29:21  there are  million millionaires in the world t...   \n",
       "4  2025-04-27 13:19:42  just in bitcoin payments are expanding to all ...   \n",
       "\n",
       "   title_sentiment  \n",
       "0         0.983905  \n",
       "1         0.974359  \n",
       "2        -0.995282  \n",
       "3        -0.956648  \n",
       "4        -0.761803  "
      ]
     },
     "execution_count": 38,
     "metadata": {},
     "output_type": "execute_result"
    }
   ],
   "source": [
    "reddit_data.head()"
   ]
  },
  {
   "cell_type": "code",
   "execution_count": 39,
   "metadata": {},
   "outputs": [
    {
     "data": {
      "text/plain": [
       "(950, 8)"
      ]
     },
     "execution_count": 39,
     "metadata": {},
     "output_type": "execute_result"
    }
   ],
   "source": [
    "reddit_data[reddit_data['title_sentiment']>0].shape"
   ]
  },
  {
   "cell_type": "code",
   "execution_count": 40,
   "metadata": {},
   "outputs": [
    {
     "data": {
      "text/plain": [
       "(2222, 8)"
      ]
     },
     "execution_count": 40,
     "metadata": {},
     "output_type": "execute_result"
    }
   ],
   "source": [
    "reddit_data[reddit_data['title_sentiment']<0].shape"
   ]
  },
  {
   "cell_type": "code",
   "execution_count": 41,
   "metadata": {},
   "outputs": [],
   "source": [
    "inputs1 = tokenizer(reddit_data['Description'].tolist(), padding=True, truncation=True,max_length=100, return_tensors=\"pt\")"
   ]
  },
  {
   "cell_type": "code",
   "execution_count": 42,
   "metadata": {},
   "outputs": [],
   "source": [
    "with torch.no_grad():\n",
    "    outputs1 = model(**inputs1)"
   ]
  },
  {
   "cell_type": "code",
   "execution_count": 43,
   "metadata": {},
   "outputs": [
    {
     "data": {
      "text/plain": [
       "SequenceClassifierOutput(loss=None, logits=tensor([[ 0.0880,  0.0447],\n",
       "        [ 3.5621, -2.9715],\n",
       "        [ 3.3003, -2.7468],\n",
       "        ...,\n",
       "        [-0.4999,  0.5887],\n",
       "        [-1.0106,  1.0628],\n",
       "        [-2.5980,  2.6117]]), hidden_states=None, attentions=None)"
      ]
     },
     "execution_count": 43,
     "metadata": {},
     "output_type": "execute_result"
    }
   ],
   "source": [
    "outputs1"
   ]
  },
  {
   "cell_type": "code",
   "execution_count": 44,
   "metadata": {},
   "outputs": [],
   "source": [
    "logits1 = outputs1.logits"
   ]
  },
  {
   "cell_type": "code",
   "execution_count": 45,
   "metadata": {},
   "outputs": [
    {
     "data": {
      "text/plain": [
       "tensor([[ 0.0880,  0.0447],\n",
       "        [ 3.5621, -2.9715],\n",
       "        [ 3.3003, -2.7468],\n",
       "        ...,\n",
       "        [-0.4999,  0.5887],\n",
       "        [-1.0106,  1.0628],\n",
       "        [-2.5980,  2.6117]])"
      ]
     },
     "execution_count": 45,
     "metadata": {},
     "output_type": "execute_result"
    }
   ],
   "source": [
    "logits1"
   ]
  },
  {
   "cell_type": "code",
   "execution_count": 46,
   "metadata": {},
   "outputs": [],
   "source": [
    "probabilities1 = torch.nn.functional.softmax(logits1, dim=1)"
   ]
  },
  {
   "cell_type": "code",
   "execution_count": 47,
   "metadata": {},
   "outputs": [
    {
     "data": {
      "text/plain": [
       "tensor([[0.5108, 0.4892],\n",
       "        [0.9985, 0.0015],\n",
       "        [0.9976, 0.0024],\n",
       "        ...,\n",
       "        [0.2519, 0.7481],\n",
       "        [0.1117, 0.8883],\n",
       "        [0.0054, 0.9946]])"
      ]
     },
     "execution_count": 47,
     "metadata": {},
     "output_type": "execute_result"
    }
   ],
   "source": [
    "probabilities1"
   ]
  },
  {
   "cell_type": "code",
   "execution_count": 48,
   "metadata": {},
   "outputs": [],
   "source": [
    "reddit_data['description_sentiment'] = 2 * probabilities1[:, 1].numpy() - 1"
   ]
  },
  {
   "cell_type": "code",
   "execution_count": 49,
   "metadata": {},
   "outputs": [
    {
     "data": {
      "text/plain": [
       "(806, 9)"
      ]
     },
     "execution_count": 49,
     "metadata": {},
     "output_type": "execute_result"
    }
   ],
   "source": [
    "reddit_data[reddit_data['description_sentiment']>0].shape"
   ]
  },
  {
   "cell_type": "code",
   "execution_count": 50,
   "metadata": {},
   "outputs": [
    {
     "data": {
      "text/plain": [
       "(2366, 9)"
      ]
     },
     "execution_count": 50,
     "metadata": {},
     "output_type": "execute_result"
    }
   ],
   "source": [
    "reddit_data[reddit_data['description_sentiment']<0].shape"
   ]
  },
  {
   "cell_type": "code",
   "execution_count": 51,
   "metadata": {},
   "outputs": [],
   "source": [
    "reddit_data['created']=pd.to_datetime(reddit_data['created'])"
   ]
  },
  {
   "cell_type": "code",
   "execution_count": 52,
   "metadata": {},
   "outputs": [],
   "source": [
    "reddit_daily = reddit_data.groupby(reddit_data['created'].dt.date).agg({\n",
    "    'score': 'mean',\n",
    "    'No_Comments': 'sum',\n",
    "    'title_sentiment': 'mean',\n",
    "    'description_sentiment': 'mean'\n",
    "}).reset_index()"
   ]
  },
  {
   "cell_type": "code",
   "execution_count": 53,
   "metadata": {},
   "outputs": [
    {
     "data": {
      "text/html": [
       "<div>\n",
       "<style scoped>\n",
       "    .dataframe tbody tr th:only-of-type {\n",
       "        vertical-align: middle;\n",
       "    }\n",
       "\n",
       "    .dataframe tbody tr th {\n",
       "        vertical-align: top;\n",
       "    }\n",
       "\n",
       "    .dataframe thead th {\n",
       "        text-align: right;\n",
       "    }\n",
       "</style>\n",
       "<table border=\"1\" class=\"dataframe\">\n",
       "  <thead>\n",
       "    <tr style=\"text-align: right;\">\n",
       "      <th></th>\n",
       "      <th>created</th>\n",
       "      <th>score</th>\n",
       "      <th>No_Comments</th>\n",
       "      <th>title_sentiment</th>\n",
       "      <th>description_sentiment</th>\n",
       "    </tr>\n",
       "  </thead>\n",
       "  <tbody>\n",
       "    <tr>\n",
       "      <th>0</th>\n",
       "      <td>2016-02-09</td>\n",
       "      <td>1.000000</td>\n",
       "      <td>1</td>\n",
       "      <td>-0.982634</td>\n",
       "      <td>0.776574</td>\n",
       "    </tr>\n",
       "    <tr>\n",
       "      <th>1</th>\n",
       "      <td>2016-07-01</td>\n",
       "      <td>1.000000</td>\n",
       "      <td>1</td>\n",
       "      <td>0.528056</td>\n",
       "      <td>0.496242</td>\n",
       "    </tr>\n",
       "    <tr>\n",
       "      <th>2</th>\n",
       "      <td>2017-09-18</td>\n",
       "      <td>1.000000</td>\n",
       "      <td>0</td>\n",
       "      <td>-0.877151</td>\n",
       "      <td>-0.877151</td>\n",
       "    </tr>\n",
       "    <tr>\n",
       "      <th>3</th>\n",
       "      <td>2017-09-28</td>\n",
       "      <td>1.000000</td>\n",
       "      <td>0</td>\n",
       "      <td>-0.969502</td>\n",
       "      <td>-0.969502</td>\n",
       "    </tr>\n",
       "    <tr>\n",
       "      <th>4</th>\n",
       "      <td>2017-10-05</td>\n",
       "      <td>1.000000</td>\n",
       "      <td>0</td>\n",
       "      <td>-0.780034</td>\n",
       "      <td>-0.780034</td>\n",
       "    </tr>\n",
       "    <tr>\n",
       "      <th>...</th>\n",
       "      <td>...</td>\n",
       "      <td>...</td>\n",
       "      <td>...</td>\n",
       "      <td>...</td>\n",
       "      <td>...</td>\n",
       "    </tr>\n",
       "    <tr>\n",
       "      <th>628</th>\n",
       "      <td>2025-04-23</td>\n",
       "      <td>199.056075</td>\n",
       "      <td>3456</td>\n",
       "      <td>-0.340742</td>\n",
       "      <td>-0.380292</td>\n",
       "    </tr>\n",
       "    <tr>\n",
       "      <th>629</th>\n",
       "      <td>2025-04-24</td>\n",
       "      <td>129.756098</td>\n",
       "      <td>4260</td>\n",
       "      <td>-0.185081</td>\n",
       "      <td>-0.315323</td>\n",
       "    </tr>\n",
       "    <tr>\n",
       "      <th>630</th>\n",
       "      <td>2025-04-25</td>\n",
       "      <td>133.092308</td>\n",
       "      <td>5241</td>\n",
       "      <td>-0.284980</td>\n",
       "      <td>-0.367971</td>\n",
       "    </tr>\n",
       "    <tr>\n",
       "      <th>631</th>\n",
       "      <td>2025-04-26</td>\n",
       "      <td>136.930693</td>\n",
       "      <td>2992</td>\n",
       "      <td>-0.324115</td>\n",
       "      <td>-0.497646</td>\n",
       "    </tr>\n",
       "    <tr>\n",
       "      <th>632</th>\n",
       "      <td>2025-04-27</td>\n",
       "      <td>71.650602</td>\n",
       "      <td>1476</td>\n",
       "      <td>-0.267564</td>\n",
       "      <td>-0.488589</td>\n",
       "    </tr>\n",
       "  </tbody>\n",
       "</table>\n",
       "<p>633 rows × 5 columns</p>\n",
       "</div>"
      ],
      "text/plain": [
       "        created       score  No_Comments  title_sentiment  \\\n",
       "0    2016-02-09    1.000000            1        -0.982634   \n",
       "1    2016-07-01    1.000000            1         0.528056   \n",
       "2    2017-09-18    1.000000            0        -0.877151   \n",
       "3    2017-09-28    1.000000            0        -0.969502   \n",
       "4    2017-10-05    1.000000            0        -0.780034   \n",
       "..          ...         ...          ...              ...   \n",
       "628  2025-04-23  199.056075         3456        -0.340742   \n",
       "629  2025-04-24  129.756098         4260        -0.185081   \n",
       "630  2025-04-25  133.092308         5241        -0.284980   \n",
       "631  2025-04-26  136.930693         2992        -0.324115   \n",
       "632  2025-04-27   71.650602         1476        -0.267564   \n",
       "\n",
       "     description_sentiment  \n",
       "0                 0.776574  \n",
       "1                 0.496242  \n",
       "2                -0.877151  \n",
       "3                -0.969502  \n",
       "4                -0.780034  \n",
       "..                     ...  \n",
       "628              -0.380292  \n",
       "629              -0.315323  \n",
       "630              -0.367971  \n",
       "631              -0.497646  \n",
       "632              -0.488589  \n",
       "\n",
       "[633 rows x 5 columns]"
      ]
     },
     "execution_count": 53,
     "metadata": {},
     "output_type": "execute_result"
    }
   ],
   "source": [
    "reddit_daily"
   ]
  },
  {
   "cell_type": "code",
   "execution_count": 54,
   "metadata": {},
   "outputs": [
    {
     "data": {
      "text/plain": [
       "(79, 5)"
      ]
     },
     "execution_count": 54,
     "metadata": {},
     "output_type": "execute_result"
    }
   ],
   "source": [
    "reddit_daily[reddit_daily['description_sentiment']>0].shape"
   ]
  },
  {
   "cell_type": "code",
   "execution_count": 55,
   "metadata": {},
   "outputs": [
    {
     "data": {
      "text/plain": [
       "(554, 5)"
      ]
     },
     "execution_count": 55,
     "metadata": {},
     "output_type": "execute_result"
    }
   ],
   "source": [
    "reddit_daily[reddit_daily['description_sentiment']<0].shape"
   ]
  },
  {
   "cell_type": "code",
   "execution_count": 56,
   "metadata": {},
   "outputs": [
    {
     "data": {
      "text/plain": [
       "(118, 5)"
      ]
     },
     "execution_count": 56,
     "metadata": {},
     "output_type": "execute_result"
    }
   ],
   "source": [
    "reddit_daily[reddit_daily['title_sentiment']>0].shape"
   ]
  },
  {
   "cell_type": "code",
   "execution_count": 57,
   "metadata": {},
   "outputs": [
    {
     "data": {
      "text/plain": [
       "(554, 5)"
      ]
     },
     "execution_count": 57,
     "metadata": {},
     "output_type": "execute_result"
    }
   ],
   "source": [
    "reddit_daily[reddit_daily['description_sentiment']<0].shape"
   ]
  },
  {
   "cell_type": "code",
   "execution_count": 58,
   "metadata": {},
   "outputs": [],
   "source": [
    "reddit_daily['created'] = pd.to_datetime(reddit_daily['created']).dt.date"
   ]
  },
  {
   "cell_type": "code",
   "execution_count": 59,
   "metadata": {},
   "outputs": [],
   "source": [
    "reddit_daily.set_index('created', inplace=True)"
   ]
  },
  {
   "cell_type": "code",
   "execution_count": 60,
   "metadata": {},
   "outputs": [
    {
     "data": {
      "text/html": [
       "<div>\n",
       "<style scoped>\n",
       "    .dataframe tbody tr th:only-of-type {\n",
       "        vertical-align: middle;\n",
       "    }\n",
       "\n",
       "    .dataframe tbody tr th {\n",
       "        vertical-align: top;\n",
       "    }\n",
       "\n",
       "    .dataframe thead th {\n",
       "        text-align: right;\n",
       "    }\n",
       "</style>\n",
       "<table border=\"1\" class=\"dataframe\">\n",
       "  <thead>\n",
       "    <tr style=\"text-align: right;\">\n",
       "      <th></th>\n",
       "      <th>score</th>\n",
       "      <th>No_Comments</th>\n",
       "      <th>title_sentiment</th>\n",
       "      <th>description_sentiment</th>\n",
       "    </tr>\n",
       "    <tr>\n",
       "      <th>created</th>\n",
       "      <th></th>\n",
       "      <th></th>\n",
       "      <th></th>\n",
       "      <th></th>\n",
       "    </tr>\n",
       "  </thead>\n",
       "  <tbody>\n",
       "    <tr>\n",
       "      <th>2016-02-09</th>\n",
       "      <td>1.0</td>\n",
       "      <td>1</td>\n",
       "      <td>-0.982634</td>\n",
       "      <td>0.776574</td>\n",
       "    </tr>\n",
       "    <tr>\n",
       "      <th>2016-07-01</th>\n",
       "      <td>1.0</td>\n",
       "      <td>1</td>\n",
       "      <td>0.528056</td>\n",
       "      <td>0.496242</td>\n",
       "    </tr>\n",
       "    <tr>\n",
       "      <th>2017-09-18</th>\n",
       "      <td>1.0</td>\n",
       "      <td>0</td>\n",
       "      <td>-0.877151</td>\n",
       "      <td>-0.877151</td>\n",
       "    </tr>\n",
       "    <tr>\n",
       "      <th>2017-09-28</th>\n",
       "      <td>1.0</td>\n",
       "      <td>0</td>\n",
       "      <td>-0.969502</td>\n",
       "      <td>-0.969502</td>\n",
       "    </tr>\n",
       "    <tr>\n",
       "      <th>2017-10-05</th>\n",
       "      <td>1.0</td>\n",
       "      <td>0</td>\n",
       "      <td>-0.780034</td>\n",
       "      <td>-0.780034</td>\n",
       "    </tr>\n",
       "  </tbody>\n",
       "</table>\n",
       "</div>"
      ],
      "text/plain": [
       "            score  No_Comments  title_sentiment  description_sentiment\n",
       "created                                                               \n",
       "2016-02-09    1.0            1        -0.982634               0.776574\n",
       "2016-07-01    1.0            1         0.528056               0.496242\n",
       "2017-09-18    1.0            0        -0.877151              -0.877151\n",
       "2017-09-28    1.0            0        -0.969502              -0.969502\n",
       "2017-10-05    1.0            0        -0.780034              -0.780034"
      ]
     },
     "execution_count": 60,
     "metadata": {},
     "output_type": "execute_result"
    }
   ],
   "source": [
    "reddit_daily.head()"
   ]
  },
  {
   "cell_type": "code",
   "execution_count": 67,
   "metadata": {},
   "outputs": [],
   "source": [
    "\n",
    "market_data = pd.read_csv('C:/Users/somya/Downloads/Hybrid Model for Crypto Volatility Prediction using Sentiment Analysis/Data_set/bitcon_merged_volatility_file.csv')"
   ]
  },
  {
   "cell_type": "code",
   "execution_count": 68,
   "metadata": {},
   "outputs": [
    {
     "data": {
      "text/html": [
       "<div>\n",
       "<style scoped>\n",
       "    .dataframe tbody tr th:only-of-type {\n",
       "        vertical-align: middle;\n",
       "    }\n",
       "\n",
       "    .dataframe tbody tr th {\n",
       "        vertical-align: top;\n",
       "    }\n",
       "\n",
       "    .dataframe thead th {\n",
       "        text-align: right;\n",
       "    }\n",
       "</style>\n",
       "<table border=\"1\" class=\"dataframe\">\n",
       "  <thead>\n",
       "    <tr style=\"text-align: right;\">\n",
       "      <th></th>\n",
       "      <th>date</th>\n",
       "      <th>price</th>\n",
       "      <th>total_volume</th>\n",
       "      <th>market_cap</th>\n",
       "      <th>coin_name</th>\n",
       "      <th>bitcoin_returns</th>\n",
       "      <th>bitcoin_volatility</th>\n",
       "    </tr>\n",
       "  </thead>\n",
       "  <tbody>\n",
       "    <tr>\n",
       "      <th>0</th>\n",
       "      <td>2015-01-01 00:00:00.000</td>\n",
       "      <td>313.992</td>\n",
       "      <td>4.699936e+07</td>\n",
       "      <td>4.293958e+09</td>\n",
       "      <td>bitcoin</td>\n",
       "      <td>0.002189</td>\n",
       "      <td>0.626246</td>\n",
       "    </tr>\n",
       "    <tr>\n",
       "      <th>1</th>\n",
       "      <td>2015-01-02 00:00:00.000</td>\n",
       "      <td>314.446</td>\n",
       "      <td>3.885591e+07</td>\n",
       "      <td>4.301448e+09</td>\n",
       "      <td>bitcoin</td>\n",
       "      <td>0.001446</td>\n",
       "      <td>0.626246</td>\n",
       "    </tr>\n",
       "    <tr>\n",
       "      <th>2</th>\n",
       "      <td>2015-01-03 00:00:00.000</td>\n",
       "      <td>286.572</td>\n",
       "      <td>1.187789e+08</td>\n",
       "      <td>3.921358e+09</td>\n",
       "      <td>bitcoin</td>\n",
       "      <td>-0.088645</td>\n",
       "      <td>0.626246</td>\n",
       "    </tr>\n",
       "    <tr>\n",
       "      <th>3</th>\n",
       "      <td>2015-01-04 00:00:00.000</td>\n",
       "      <td>260.936</td>\n",
       "      <td>2.055001e+08</td>\n",
       "      <td>3.571640e+09</td>\n",
       "      <td>bitcoin</td>\n",
       "      <td>-0.089457</td>\n",
       "      <td>0.626246</td>\n",
       "    </tr>\n",
       "    <tr>\n",
       "      <th>4</th>\n",
       "      <td>2015-01-05 00:00:00.000</td>\n",
       "      <td>273.220</td>\n",
       "      <td>1.550381e+08</td>\n",
       "      <td>3.740880e+09</td>\n",
       "      <td>bitcoin</td>\n",
       "      <td>0.047077</td>\n",
       "      <td>0.626246</td>\n",
       "    </tr>\n",
       "  </tbody>\n",
       "</table>\n",
       "</div>"
      ],
      "text/plain": [
       "                      date    price  total_volume    market_cap coin_name  \\\n",
       "0  2015-01-01 00:00:00.000  313.992  4.699936e+07  4.293958e+09   bitcoin   \n",
       "1  2015-01-02 00:00:00.000  314.446  3.885591e+07  4.301448e+09   bitcoin   \n",
       "2  2015-01-03 00:00:00.000  286.572  1.187789e+08  3.921358e+09   bitcoin   \n",
       "3  2015-01-04 00:00:00.000  260.936  2.055001e+08  3.571640e+09   bitcoin   \n",
       "4  2015-01-05 00:00:00.000  273.220  1.550381e+08  3.740880e+09   bitcoin   \n",
       "\n",
       "   bitcoin_returns  bitcoin_volatility  \n",
       "0         0.002189            0.626246  \n",
       "1         0.001446            0.626246  \n",
       "2        -0.088645            0.626246  \n",
       "3        -0.089457            0.626246  \n",
       "4         0.047077            0.626246  "
      ]
     },
     "execution_count": 68,
     "metadata": {},
     "output_type": "execute_result"
    }
   ],
   "source": [
    "market_data.head()"
   ]
  },
  {
   "cell_type": "code",
   "execution_count": 69,
   "metadata": {},
   "outputs": [],
   "source": [
    "market_data = market_data.loc[:, ~market_data.columns.str.contains('^Unnamed')]"
   ]
  },
  {
   "cell_type": "code",
   "execution_count": 70,
   "metadata": {},
   "outputs": [
    {
     "data": {
      "text/html": [
       "<div>\n",
       "<style scoped>\n",
       "    .dataframe tbody tr th:only-of-type {\n",
       "        vertical-align: middle;\n",
       "    }\n",
       "\n",
       "    .dataframe tbody tr th {\n",
       "        vertical-align: top;\n",
       "    }\n",
       "\n",
       "    .dataframe thead th {\n",
       "        text-align: right;\n",
       "    }\n",
       "</style>\n",
       "<table border=\"1\" class=\"dataframe\">\n",
       "  <thead>\n",
       "    <tr style=\"text-align: right;\">\n",
       "      <th></th>\n",
       "      <th>date</th>\n",
       "      <th>price</th>\n",
       "      <th>total_volume</th>\n",
       "      <th>market_cap</th>\n",
       "      <th>coin_name</th>\n",
       "      <th>bitcoin_returns</th>\n",
       "      <th>bitcoin_volatility</th>\n",
       "    </tr>\n",
       "  </thead>\n",
       "  <tbody>\n",
       "    <tr>\n",
       "      <th>0</th>\n",
       "      <td>2015-01-01 00:00:00.000</td>\n",
       "      <td>313.992</td>\n",
       "      <td>4.699936e+07</td>\n",
       "      <td>4.293958e+09</td>\n",
       "      <td>bitcoin</td>\n",
       "      <td>0.002189</td>\n",
       "      <td>0.626246</td>\n",
       "    </tr>\n",
       "    <tr>\n",
       "      <th>1</th>\n",
       "      <td>2015-01-02 00:00:00.000</td>\n",
       "      <td>314.446</td>\n",
       "      <td>3.885591e+07</td>\n",
       "      <td>4.301448e+09</td>\n",
       "      <td>bitcoin</td>\n",
       "      <td>0.001446</td>\n",
       "      <td>0.626246</td>\n",
       "    </tr>\n",
       "    <tr>\n",
       "      <th>2</th>\n",
       "      <td>2015-01-03 00:00:00.000</td>\n",
       "      <td>286.572</td>\n",
       "      <td>1.187789e+08</td>\n",
       "      <td>3.921358e+09</td>\n",
       "      <td>bitcoin</td>\n",
       "      <td>-0.088645</td>\n",
       "      <td>0.626246</td>\n",
       "    </tr>\n",
       "    <tr>\n",
       "      <th>3</th>\n",
       "      <td>2015-01-04 00:00:00.000</td>\n",
       "      <td>260.936</td>\n",
       "      <td>2.055001e+08</td>\n",
       "      <td>3.571640e+09</td>\n",
       "      <td>bitcoin</td>\n",
       "      <td>-0.089457</td>\n",
       "      <td>0.626246</td>\n",
       "    </tr>\n",
       "    <tr>\n",
       "      <th>4</th>\n",
       "      <td>2015-01-05 00:00:00.000</td>\n",
       "      <td>273.220</td>\n",
       "      <td>1.550381e+08</td>\n",
       "      <td>3.740880e+09</td>\n",
       "      <td>bitcoin</td>\n",
       "      <td>0.047077</td>\n",
       "      <td>0.626246</td>\n",
       "    </tr>\n",
       "  </tbody>\n",
       "</table>\n",
       "</div>"
      ],
      "text/plain": [
       "                      date    price  total_volume    market_cap coin_name  \\\n",
       "0  2015-01-01 00:00:00.000  313.992  4.699936e+07  4.293958e+09   bitcoin   \n",
       "1  2015-01-02 00:00:00.000  314.446  3.885591e+07  4.301448e+09   bitcoin   \n",
       "2  2015-01-03 00:00:00.000  286.572  1.187789e+08  3.921358e+09   bitcoin   \n",
       "3  2015-01-04 00:00:00.000  260.936  2.055001e+08  3.571640e+09   bitcoin   \n",
       "4  2015-01-05 00:00:00.000  273.220  1.550381e+08  3.740880e+09   bitcoin   \n",
       "\n",
       "   bitcoin_returns  bitcoin_volatility  \n",
       "0         0.002189            0.626246  \n",
       "1         0.001446            0.626246  \n",
       "2        -0.088645            0.626246  \n",
       "3        -0.089457            0.626246  \n",
       "4         0.047077            0.626246  "
      ]
     },
     "execution_count": 70,
     "metadata": {},
     "output_type": "execute_result"
    }
   ],
   "source": [
    "market_data.head()"
   ]
  },
  {
   "cell_type": "code",
   "execution_count": 72,
   "metadata": {},
   "outputs": [],
   "source": [
    "market_data['date'] = pd.to_datetime(market_data['date']).dt.date"
   ]
  },
  {
   "cell_type": "code",
   "execution_count": 73,
   "metadata": {},
   "outputs": [],
   "source": [
    "market_data.set_index('date', inplace=True)"
   ]
  },
  {
   "cell_type": "code",
   "execution_count": 74,
   "metadata": {},
   "outputs": [
    {
     "data": {
      "text/html": [
       "<div>\n",
       "<style scoped>\n",
       "    .dataframe tbody tr th:only-of-type {\n",
       "        vertical-align: middle;\n",
       "    }\n",
       "\n",
       "    .dataframe tbody tr th {\n",
       "        vertical-align: top;\n",
       "    }\n",
       "\n",
       "    .dataframe thead th {\n",
       "        text-align: right;\n",
       "    }\n",
       "</style>\n",
       "<table border=\"1\" class=\"dataframe\">\n",
       "  <thead>\n",
       "    <tr style=\"text-align: right;\">\n",
       "      <th></th>\n",
       "      <th>price</th>\n",
       "      <th>total_volume</th>\n",
       "      <th>market_cap</th>\n",
       "      <th>coin_name</th>\n",
       "      <th>bitcoin_returns</th>\n",
       "      <th>bitcoin_volatility</th>\n",
       "    </tr>\n",
       "    <tr>\n",
       "      <th>date</th>\n",
       "      <th></th>\n",
       "      <th></th>\n",
       "      <th></th>\n",
       "      <th></th>\n",
       "      <th></th>\n",
       "      <th></th>\n",
       "    </tr>\n",
       "  </thead>\n",
       "  <tbody>\n",
       "    <tr>\n",
       "      <th>2015-01-01</th>\n",
       "      <td>313.992</td>\n",
       "      <td>4.699936e+07</td>\n",
       "      <td>4.293958e+09</td>\n",
       "      <td>bitcoin</td>\n",
       "      <td>0.002189</td>\n",
       "      <td>0.626246</td>\n",
       "    </tr>\n",
       "    <tr>\n",
       "      <th>2015-01-02</th>\n",
       "      <td>314.446</td>\n",
       "      <td>3.885591e+07</td>\n",
       "      <td>4.301448e+09</td>\n",
       "      <td>bitcoin</td>\n",
       "      <td>0.001446</td>\n",
       "      <td>0.626246</td>\n",
       "    </tr>\n",
       "    <tr>\n",
       "      <th>2015-01-03</th>\n",
       "      <td>286.572</td>\n",
       "      <td>1.187789e+08</td>\n",
       "      <td>3.921358e+09</td>\n",
       "      <td>bitcoin</td>\n",
       "      <td>-0.088645</td>\n",
       "      <td>0.626246</td>\n",
       "    </tr>\n",
       "    <tr>\n",
       "      <th>2015-01-04</th>\n",
       "      <td>260.936</td>\n",
       "      <td>2.055001e+08</td>\n",
       "      <td>3.571640e+09</td>\n",
       "      <td>bitcoin</td>\n",
       "      <td>-0.089457</td>\n",
       "      <td>0.626246</td>\n",
       "    </tr>\n",
       "    <tr>\n",
       "      <th>2015-01-05</th>\n",
       "      <td>273.220</td>\n",
       "      <td>1.550381e+08</td>\n",
       "      <td>3.740880e+09</td>\n",
       "      <td>bitcoin</td>\n",
       "      <td>0.047077</td>\n",
       "      <td>0.626246</td>\n",
       "    </tr>\n",
       "  </tbody>\n",
       "</table>\n",
       "</div>"
      ],
      "text/plain": [
       "              price  total_volume    market_cap coin_name  bitcoin_returns  \\\n",
       "date                                                                         \n",
       "2015-01-01  313.992  4.699936e+07  4.293958e+09   bitcoin         0.002189   \n",
       "2015-01-02  314.446  3.885591e+07  4.301448e+09   bitcoin         0.001446   \n",
       "2015-01-03  286.572  1.187789e+08  3.921358e+09   bitcoin        -0.088645   \n",
       "2015-01-04  260.936  2.055001e+08  3.571640e+09   bitcoin        -0.089457   \n",
       "2015-01-05  273.220  1.550381e+08  3.740880e+09   bitcoin         0.047077   \n",
       "\n",
       "            bitcoin_volatility  \n",
       "date                            \n",
       "2015-01-01            0.626246  \n",
       "2015-01-02            0.626246  \n",
       "2015-01-03            0.626246  \n",
       "2015-01-04            0.626246  \n",
       "2015-01-05            0.626246  "
      ]
     },
     "execution_count": 74,
     "metadata": {},
     "output_type": "execute_result"
    }
   ],
   "source": [
    "market_data.head()"
   ]
  },
  {
   "cell_type": "code",
   "execution_count": 75,
   "metadata": {},
   "outputs": [],
   "source": [
    "\n",
    "combined_data = pd.merge(market_data, reddit_daily, left_index=True, right_index=True, how='left')"
   ]
  },
  {
   "cell_type": "code",
   "execution_count": 76,
   "metadata": {},
   "outputs": [
    {
     "data": {
      "text/html": [
       "<div>\n",
       "<style scoped>\n",
       "    .dataframe tbody tr th:only-of-type {\n",
       "        vertical-align: middle;\n",
       "    }\n",
       "\n",
       "    .dataframe tbody tr th {\n",
       "        vertical-align: top;\n",
       "    }\n",
       "\n",
       "    .dataframe thead th {\n",
       "        text-align: right;\n",
       "    }\n",
       "</style>\n",
       "<table border=\"1\" class=\"dataframe\">\n",
       "  <thead>\n",
       "    <tr style=\"text-align: right;\">\n",
       "      <th></th>\n",
       "      <th>price</th>\n",
       "      <th>total_volume</th>\n",
       "      <th>market_cap</th>\n",
       "      <th>coin_name</th>\n",
       "      <th>bitcoin_returns</th>\n",
       "      <th>bitcoin_volatility</th>\n",
       "      <th>score</th>\n",
       "      <th>No_Comments</th>\n",
       "      <th>title_sentiment</th>\n",
       "      <th>description_sentiment</th>\n",
       "    </tr>\n",
       "  </thead>\n",
       "  <tbody>\n",
       "    <tr>\n",
       "      <th>2015-01-01</th>\n",
       "      <td>313.992</td>\n",
       "      <td>4.699936e+07</td>\n",
       "      <td>4.293958e+09</td>\n",
       "      <td>bitcoin</td>\n",
       "      <td>0.002189</td>\n",
       "      <td>0.626246</td>\n",
       "      <td>NaN</td>\n",
       "      <td>NaN</td>\n",
       "      <td>NaN</td>\n",
       "      <td>NaN</td>\n",
       "    </tr>\n",
       "    <tr>\n",
       "      <th>2015-01-02</th>\n",
       "      <td>314.446</td>\n",
       "      <td>3.885591e+07</td>\n",
       "      <td>4.301448e+09</td>\n",
       "      <td>bitcoin</td>\n",
       "      <td>0.001446</td>\n",
       "      <td>0.626246</td>\n",
       "      <td>NaN</td>\n",
       "      <td>NaN</td>\n",
       "      <td>NaN</td>\n",
       "      <td>NaN</td>\n",
       "    </tr>\n",
       "    <tr>\n",
       "      <th>2015-01-03</th>\n",
       "      <td>286.572</td>\n",
       "      <td>1.187789e+08</td>\n",
       "      <td>3.921358e+09</td>\n",
       "      <td>bitcoin</td>\n",
       "      <td>-0.088645</td>\n",
       "      <td>0.626246</td>\n",
       "      <td>NaN</td>\n",
       "      <td>NaN</td>\n",
       "      <td>NaN</td>\n",
       "      <td>NaN</td>\n",
       "    </tr>\n",
       "    <tr>\n",
       "      <th>2015-01-04</th>\n",
       "      <td>260.936</td>\n",
       "      <td>2.055001e+08</td>\n",
       "      <td>3.571640e+09</td>\n",
       "      <td>bitcoin</td>\n",
       "      <td>-0.089457</td>\n",
       "      <td>0.626246</td>\n",
       "      <td>NaN</td>\n",
       "      <td>NaN</td>\n",
       "      <td>NaN</td>\n",
       "      <td>NaN</td>\n",
       "    </tr>\n",
       "    <tr>\n",
       "      <th>2015-01-05</th>\n",
       "      <td>273.220</td>\n",
       "      <td>1.550381e+08</td>\n",
       "      <td>3.740880e+09</td>\n",
       "      <td>bitcoin</td>\n",
       "      <td>0.047077</td>\n",
       "      <td>0.626246</td>\n",
       "      <td>NaN</td>\n",
       "      <td>NaN</td>\n",
       "      <td>NaN</td>\n",
       "      <td>NaN</td>\n",
       "    </tr>\n",
       "  </tbody>\n",
       "</table>\n",
       "</div>"
      ],
      "text/plain": [
       "              price  total_volume    market_cap coin_name  bitcoin_returns  \\\n",
       "2015-01-01  313.992  4.699936e+07  4.293958e+09   bitcoin         0.002189   \n",
       "2015-01-02  314.446  3.885591e+07  4.301448e+09   bitcoin         0.001446   \n",
       "2015-01-03  286.572  1.187789e+08  3.921358e+09   bitcoin        -0.088645   \n",
       "2015-01-04  260.936  2.055001e+08  3.571640e+09   bitcoin        -0.089457   \n",
       "2015-01-05  273.220  1.550381e+08  3.740880e+09   bitcoin         0.047077   \n",
       "\n",
       "            bitcoin_volatility  score  No_Comments  title_sentiment  \\\n",
       "2015-01-01            0.626246    NaN          NaN              NaN   \n",
       "2015-01-02            0.626246    NaN          NaN              NaN   \n",
       "2015-01-03            0.626246    NaN          NaN              NaN   \n",
       "2015-01-04            0.626246    NaN          NaN              NaN   \n",
       "2015-01-05            0.626246    NaN          NaN              NaN   \n",
       "\n",
       "            description_sentiment  \n",
       "2015-01-01                    NaN  \n",
       "2015-01-02                    NaN  \n",
       "2015-01-03                    NaN  \n",
       "2015-01-04                    NaN  \n",
       "2015-01-05                    NaN  "
      ]
     },
     "execution_count": 76,
     "metadata": {},
     "output_type": "execute_result"
    }
   ],
   "source": [
    "combined_data.head()"
   ]
  },
  {
   "cell_type": "code",
   "execution_count": 77,
   "metadata": {},
   "outputs": [
    {
     "data": {
      "text/plain": [
       "(3739, 10)"
      ]
     },
     "execution_count": 77,
     "metadata": {},
     "output_type": "execute_result"
    }
   ],
   "source": [
    "combined_data.shape"
   ]
  },
  {
   "cell_type": "code",
   "execution_count": 78,
   "metadata": {},
   "outputs": [
    {
     "data": {
      "text/plain": [
       "(76, 10)"
      ]
     },
     "execution_count": 78,
     "metadata": {},
     "output_type": "execute_result"
    }
   ],
   "source": [
    "combined_data[combined_data['description_sentiment']>0].shape"
   ]
  },
  {
   "cell_type": "code",
   "execution_count": 79,
   "metadata": {},
   "outputs": [
    {
     "data": {
      "text/plain": [
       "(541, 10)"
      ]
     },
     "execution_count": 79,
     "metadata": {},
     "output_type": "execute_result"
    }
   ],
   "source": [
    "combined_data[combined_data['description_sentiment']<0].shape"
   ]
  },
  {
   "cell_type": "code",
   "execution_count": 80,
   "metadata": {},
   "outputs": [
    {
     "data": {
      "text/plain": [
       "(115, 10)"
      ]
     },
     "execution_count": 80,
     "metadata": {},
     "output_type": "execute_result"
    }
   ],
   "source": [
    "combined_data[combined_data['title_sentiment']>0].shape"
   ]
  },
  {
   "cell_type": "code",
   "execution_count": 81,
   "metadata": {},
   "outputs": [
    {
     "data": {
      "text/plain": [
       "(502, 10)"
      ]
     },
     "execution_count": 81,
     "metadata": {},
     "output_type": "execute_result"
    }
   ],
   "source": [
    "combined_data[combined_data['title_sentiment']<0].shape"
   ]
  },
  {
   "cell_type": "code",
   "execution_count": 82,
   "metadata": {},
   "outputs": [
    {
     "data": {
      "text/plain": [
       "price                       0\n",
       "total_volume                0\n",
       "market_cap                  1\n",
       "coin_name                   0\n",
       "bitcoin_returns             0\n",
       "bitcoin_volatility          0\n",
       "score                    3122\n",
       "No_Comments              3122\n",
       "title_sentiment          3122\n",
       "description_sentiment    3122\n",
       "dtype: int64"
      ]
     },
     "execution_count": 82,
     "metadata": {},
     "output_type": "execute_result"
    }
   ],
   "source": [
    "combined_data.isnull().sum()[:20]"
   ]
  },
  {
   "cell_type": "code",
   "execution_count": 83,
   "metadata": {},
   "outputs": [
    {
     "data": {
      "text/plain": [
       "(3739, 10)"
      ]
     },
     "execution_count": 83,
     "metadata": {},
     "output_type": "execute_result"
    }
   ],
   "source": [
    "combined_data.shape"
   ]
  },
  {
   "cell_type": "code",
   "execution_count": 84,
   "metadata": {},
   "outputs": [],
   "source": [
    "combined_data['score']=combined_data['score'].fillna(combined_data['score'].mean())"
   ]
  },
  {
   "cell_type": "code",
   "execution_count": 85,
   "metadata": {},
   "outputs": [],
   "source": [
    "combined_data['No_Comments']=combined_data['No_Comments'].fillna(combined_data['No_Comments'].median())"
   ]
  },
  {
   "cell_type": "code",
   "execution_count": 86,
   "metadata": {},
   "outputs": [],
   "source": [
    "combined_data['title_sentiment']=combined_data['title_sentiment'].fillna(combined_data['title_sentiment'].max())"
   ]
  },
  {
   "cell_type": "code",
   "execution_count": 87,
   "metadata": {},
   "outputs": [],
   "source": [
    "combined_data['description_sentiment']=combined_data['description_sentiment'].fillna(combined_data['description_sentiment'].max())"
   ]
  },
  {
   "cell_type": "code",
   "execution_count": 88,
   "metadata": {},
   "outputs": [
    {
     "data": {
      "text/plain": [
       "price                    0\n",
       "total_volume             0\n",
       "market_cap               1\n",
       "coin_name                0\n",
       "bitcoin_returns          0\n",
       "bitcoin_volatility       0\n",
       "score                    0\n",
       "No_Comments              0\n",
       "title_sentiment          0\n",
       "description_sentiment    0\n",
       "dtype: int64"
      ]
     },
     "execution_count": 88,
     "metadata": {},
     "output_type": "execute_result"
    }
   ],
   "source": [
    "combined_data.isnull().sum()"
   ]
  },
  {
   "cell_type": "code",
   "execution_count": 89,
   "metadata": {},
   "outputs": [
    {
     "data": {
      "text/plain": [
       "(3198, 10)"
      ]
     },
     "execution_count": 89,
     "metadata": {},
     "output_type": "execute_result"
    }
   ],
   "source": [
    "combined_data[combined_data['description_sentiment']>0].shape"
   ]
  },
  {
   "cell_type": "code",
   "execution_count": 90,
   "metadata": {},
   "outputs": [],
   "source": [
    "for col in ['score', 'No_Comments', 'title_sentiment', 'description_sentiment']:\n",
    "    for i in range(1,8):\n",
    "        combined_data[f'{col}_lag{i}'] = combined_data[col].shift(i)"
   ]
  },
  {
   "cell_type": "code",
   "execution_count": 91,
   "metadata": {},
   "outputs": [
    {
     "data": {
      "text/html": [
       "<div>\n",
       "<style scoped>\n",
       "    .dataframe tbody tr th:only-of-type {\n",
       "        vertical-align: middle;\n",
       "    }\n",
       "\n",
       "    .dataframe tbody tr th {\n",
       "        vertical-align: top;\n",
       "    }\n",
       "\n",
       "    .dataframe thead th {\n",
       "        text-align: right;\n",
       "    }\n",
       "</style>\n",
       "<table border=\"1\" class=\"dataframe\">\n",
       "  <thead>\n",
       "    <tr style=\"text-align: right;\">\n",
       "      <th></th>\n",
       "      <th>price</th>\n",
       "      <th>total_volume</th>\n",
       "      <th>market_cap</th>\n",
       "      <th>coin_name</th>\n",
       "      <th>bitcoin_returns</th>\n",
       "      <th>bitcoin_volatility</th>\n",
       "      <th>score</th>\n",
       "      <th>No_Comments</th>\n",
       "      <th>title_sentiment</th>\n",
       "      <th>description_sentiment</th>\n",
       "      <th>...</th>\n",
       "      <th>title_sentiment_lag5</th>\n",
       "      <th>title_sentiment_lag6</th>\n",
       "      <th>title_sentiment_lag7</th>\n",
       "      <th>description_sentiment_lag1</th>\n",
       "      <th>description_sentiment_lag2</th>\n",
       "      <th>description_sentiment_lag3</th>\n",
       "      <th>description_sentiment_lag4</th>\n",
       "      <th>description_sentiment_lag5</th>\n",
       "      <th>description_sentiment_lag6</th>\n",
       "      <th>description_sentiment_lag7</th>\n",
       "    </tr>\n",
       "  </thead>\n",
       "  <tbody>\n",
       "    <tr>\n",
       "      <th>2015-01-01</th>\n",
       "      <td>313.992</td>\n",
       "      <td>4.699936e+07</td>\n",
       "      <td>4.293958e+09</td>\n",
       "      <td>bitcoin</td>\n",
       "      <td>0.002189</td>\n",
       "      <td>0.626246</td>\n",
       "      <td>19.019289</td>\n",
       "      <td>6.0</td>\n",
       "      <td>0.999642</td>\n",
       "      <td>0.997183</td>\n",
       "      <td>...</td>\n",
       "      <td>NaN</td>\n",
       "      <td>NaN</td>\n",
       "      <td>NaN</td>\n",
       "      <td>NaN</td>\n",
       "      <td>NaN</td>\n",
       "      <td>NaN</td>\n",
       "      <td>NaN</td>\n",
       "      <td>NaN</td>\n",
       "      <td>NaN</td>\n",
       "      <td>NaN</td>\n",
       "    </tr>\n",
       "    <tr>\n",
       "      <th>2015-01-02</th>\n",
       "      <td>314.446</td>\n",
       "      <td>3.885591e+07</td>\n",
       "      <td>4.301448e+09</td>\n",
       "      <td>bitcoin</td>\n",
       "      <td>0.001446</td>\n",
       "      <td>0.626246</td>\n",
       "      <td>19.019289</td>\n",
       "      <td>6.0</td>\n",
       "      <td>0.999642</td>\n",
       "      <td>0.997183</td>\n",
       "      <td>...</td>\n",
       "      <td>NaN</td>\n",
       "      <td>NaN</td>\n",
       "      <td>NaN</td>\n",
       "      <td>0.997183</td>\n",
       "      <td>NaN</td>\n",
       "      <td>NaN</td>\n",
       "      <td>NaN</td>\n",
       "      <td>NaN</td>\n",
       "      <td>NaN</td>\n",
       "      <td>NaN</td>\n",
       "    </tr>\n",
       "    <tr>\n",
       "      <th>2015-01-03</th>\n",
       "      <td>286.572</td>\n",
       "      <td>1.187789e+08</td>\n",
       "      <td>3.921358e+09</td>\n",
       "      <td>bitcoin</td>\n",
       "      <td>-0.088645</td>\n",
       "      <td>0.626246</td>\n",
       "      <td>19.019289</td>\n",
       "      <td>6.0</td>\n",
       "      <td>0.999642</td>\n",
       "      <td>0.997183</td>\n",
       "      <td>...</td>\n",
       "      <td>NaN</td>\n",
       "      <td>NaN</td>\n",
       "      <td>NaN</td>\n",
       "      <td>0.997183</td>\n",
       "      <td>0.997183</td>\n",
       "      <td>NaN</td>\n",
       "      <td>NaN</td>\n",
       "      <td>NaN</td>\n",
       "      <td>NaN</td>\n",
       "      <td>NaN</td>\n",
       "    </tr>\n",
       "    <tr>\n",
       "      <th>2015-01-04</th>\n",
       "      <td>260.936</td>\n",
       "      <td>2.055001e+08</td>\n",
       "      <td>3.571640e+09</td>\n",
       "      <td>bitcoin</td>\n",
       "      <td>-0.089457</td>\n",
       "      <td>0.626246</td>\n",
       "      <td>19.019289</td>\n",
       "      <td>6.0</td>\n",
       "      <td>0.999642</td>\n",
       "      <td>0.997183</td>\n",
       "      <td>...</td>\n",
       "      <td>NaN</td>\n",
       "      <td>NaN</td>\n",
       "      <td>NaN</td>\n",
       "      <td>0.997183</td>\n",
       "      <td>0.997183</td>\n",
       "      <td>0.997183</td>\n",
       "      <td>NaN</td>\n",
       "      <td>NaN</td>\n",
       "      <td>NaN</td>\n",
       "      <td>NaN</td>\n",
       "    </tr>\n",
       "    <tr>\n",
       "      <th>2015-01-05</th>\n",
       "      <td>273.220</td>\n",
       "      <td>1.550381e+08</td>\n",
       "      <td>3.740880e+09</td>\n",
       "      <td>bitcoin</td>\n",
       "      <td>0.047077</td>\n",
       "      <td>0.626246</td>\n",
       "      <td>19.019289</td>\n",
       "      <td>6.0</td>\n",
       "      <td>0.999642</td>\n",
       "      <td>0.997183</td>\n",
       "      <td>...</td>\n",
       "      <td>NaN</td>\n",
       "      <td>NaN</td>\n",
       "      <td>NaN</td>\n",
       "      <td>0.997183</td>\n",
       "      <td>0.997183</td>\n",
       "      <td>0.997183</td>\n",
       "      <td>0.997183</td>\n",
       "      <td>NaN</td>\n",
       "      <td>NaN</td>\n",
       "      <td>NaN</td>\n",
       "    </tr>\n",
       "  </tbody>\n",
       "</table>\n",
       "<p>5 rows × 38 columns</p>\n",
       "</div>"
      ],
      "text/plain": [
       "              price  total_volume    market_cap coin_name  bitcoin_returns  \\\n",
       "2015-01-01  313.992  4.699936e+07  4.293958e+09   bitcoin         0.002189   \n",
       "2015-01-02  314.446  3.885591e+07  4.301448e+09   bitcoin         0.001446   \n",
       "2015-01-03  286.572  1.187789e+08  3.921358e+09   bitcoin        -0.088645   \n",
       "2015-01-04  260.936  2.055001e+08  3.571640e+09   bitcoin        -0.089457   \n",
       "2015-01-05  273.220  1.550381e+08  3.740880e+09   bitcoin         0.047077   \n",
       "\n",
       "            bitcoin_volatility      score  No_Comments  title_sentiment  \\\n",
       "2015-01-01            0.626246  19.019289          6.0         0.999642   \n",
       "2015-01-02            0.626246  19.019289          6.0         0.999642   \n",
       "2015-01-03            0.626246  19.019289          6.0         0.999642   \n",
       "2015-01-04            0.626246  19.019289          6.0         0.999642   \n",
       "2015-01-05            0.626246  19.019289          6.0         0.999642   \n",
       "\n",
       "            description_sentiment  ...  title_sentiment_lag5  \\\n",
       "2015-01-01               0.997183  ...                   NaN   \n",
       "2015-01-02               0.997183  ...                   NaN   \n",
       "2015-01-03               0.997183  ...                   NaN   \n",
       "2015-01-04               0.997183  ...                   NaN   \n",
       "2015-01-05               0.997183  ...                   NaN   \n",
       "\n",
       "            title_sentiment_lag6  title_sentiment_lag7  \\\n",
       "2015-01-01                   NaN                   NaN   \n",
       "2015-01-02                   NaN                   NaN   \n",
       "2015-01-03                   NaN                   NaN   \n",
       "2015-01-04                   NaN                   NaN   \n",
       "2015-01-05                   NaN                   NaN   \n",
       "\n",
       "            description_sentiment_lag1  description_sentiment_lag2  \\\n",
       "2015-01-01                         NaN                         NaN   \n",
       "2015-01-02                    0.997183                         NaN   \n",
       "2015-01-03                    0.997183                    0.997183   \n",
       "2015-01-04                    0.997183                    0.997183   \n",
       "2015-01-05                    0.997183                    0.997183   \n",
       "\n",
       "            description_sentiment_lag3  description_sentiment_lag4  \\\n",
       "2015-01-01                         NaN                         NaN   \n",
       "2015-01-02                         NaN                         NaN   \n",
       "2015-01-03                         NaN                         NaN   \n",
       "2015-01-04                    0.997183                         NaN   \n",
       "2015-01-05                    0.997183                    0.997183   \n",
       "\n",
       "            description_sentiment_lag5  description_sentiment_lag6  \\\n",
       "2015-01-01                         NaN                         NaN   \n",
       "2015-01-02                         NaN                         NaN   \n",
       "2015-01-03                         NaN                         NaN   \n",
       "2015-01-04                         NaN                         NaN   \n",
       "2015-01-05                         NaN                         NaN   \n",
       "\n",
       "            description_sentiment_lag7  \n",
       "2015-01-01                         NaN  \n",
       "2015-01-02                         NaN  \n",
       "2015-01-03                         NaN  \n",
       "2015-01-04                         NaN  \n",
       "2015-01-05                         NaN  \n",
       "\n",
       "[5 rows x 38 columns]"
      ]
     },
     "execution_count": 91,
     "metadata": {},
     "output_type": "execute_result"
    }
   ],
   "source": [
    "combined_data.head()"
   ]
  },
  {
   "cell_type": "code",
   "execution_count": 92,
   "metadata": {},
   "outputs": [
    {
     "data": {
      "text/plain": [
       "price                         0\n",
       "total_volume                  0\n",
       "market_cap                    1\n",
       "coin_name                     0\n",
       "bitcoin_returns               0\n",
       "bitcoin_volatility            0\n",
       "score                         0\n",
       "No_Comments                   0\n",
       "title_sentiment               0\n",
       "description_sentiment         0\n",
       "score_lag1                    1\n",
       "score_lag2                    2\n",
       "score_lag3                    3\n",
       "score_lag4                    4\n",
       "score_lag5                    5\n",
       "score_lag6                    6\n",
       "score_lag7                    7\n",
       "No_Comments_lag1              1\n",
       "No_Comments_lag2              2\n",
       "No_Comments_lag3              3\n",
       "No_Comments_lag4              4\n",
       "No_Comments_lag5              5\n",
       "No_Comments_lag6              6\n",
       "No_Comments_lag7              7\n",
       "title_sentiment_lag1          1\n",
       "title_sentiment_lag2          2\n",
       "title_sentiment_lag3          3\n",
       "title_sentiment_lag4          4\n",
       "title_sentiment_lag5          5\n",
       "title_sentiment_lag6          6\n",
       "title_sentiment_lag7          7\n",
       "description_sentiment_lag1    1\n",
       "description_sentiment_lag2    2\n",
       "description_sentiment_lag3    3\n",
       "description_sentiment_lag4    4\n",
       "description_sentiment_lag5    5\n",
       "description_sentiment_lag6    6\n",
       "description_sentiment_lag7    7\n",
       "dtype: int64"
      ]
     },
     "execution_count": 92,
     "metadata": {},
     "output_type": "execute_result"
    }
   ],
   "source": [
    "combined_data.isnull().sum()"
   ]
  },
  {
   "cell_type": "code",
   "execution_count": 93,
   "metadata": {},
   "outputs": [],
   "source": [
    "for col in ['score_lag','title_sentiment_lag', 'description_sentiment_lag']:\n",
    "    for i in range(1,8): \n",
    "        combined_data[f\"{col}{i}\"]=combined_data[f\"{col}{i}\"].fillna(combined_data[f\"{col}{i}\"].mean())"
   ]
  },
  {
   "cell_type": "code",
   "execution_count": 94,
   "metadata": {},
   "outputs": [],
   "source": [
    "for i in range(1,8):\n",
    "    combined_data[f'No_Comments_lag{i}']=combined_data[f'No_Comments_lag{i}'].fillna(combined_data[f'No_Comments_lag{i}'].median())"
   ]
  },
  {
   "cell_type": "code",
   "execution_count": 95,
   "metadata": {},
   "outputs": [
    {
     "data": {
      "text/plain": [
       "price                         0\n",
       "total_volume                  0\n",
       "market_cap                    1\n",
       "coin_name                     0\n",
       "bitcoin_returns               0\n",
       "bitcoin_volatility            0\n",
       "score                         0\n",
       "No_Comments                   0\n",
       "title_sentiment               0\n",
       "description_sentiment         0\n",
       "score_lag1                    0\n",
       "score_lag2                    0\n",
       "score_lag3                    0\n",
       "score_lag4                    0\n",
       "score_lag5                    0\n",
       "score_lag6                    0\n",
       "score_lag7                    0\n",
       "No_Comments_lag1              0\n",
       "No_Comments_lag2              0\n",
       "No_Comments_lag3              0\n",
       "No_Comments_lag4              0\n",
       "No_Comments_lag5              0\n",
       "No_Comments_lag6              0\n",
       "No_Comments_lag7              0\n",
       "title_sentiment_lag1          0\n",
       "title_sentiment_lag2          0\n",
       "title_sentiment_lag3          0\n",
       "title_sentiment_lag4          0\n",
       "title_sentiment_lag5          0\n",
       "title_sentiment_lag6          0\n",
       "title_sentiment_lag7          0\n",
       "description_sentiment_lag1    0\n",
       "description_sentiment_lag2    0\n",
       "description_sentiment_lag3    0\n",
       "description_sentiment_lag4    0\n",
       "description_sentiment_lag5    0\n",
       "description_sentiment_lag6    0\n",
       "description_sentiment_lag7    0\n",
       "dtype: int64"
      ]
     },
     "execution_count": 95,
     "metadata": {},
     "output_type": "execute_result"
    }
   ],
   "source": [
    "combined_data.isnull().sum()"
   ]
  },
  {
   "cell_type": "code",
   "execution_count": 96,
   "metadata": {},
   "outputs": [],
   "source": [
    "combined_data.to_csv('reddit_market_combined_data.csv')"
   ]
  }
 ],
 "metadata": {
  "kernelspec": {
   "display_name": "base",
   "language": "python",
   "name": "python3"
  },
  "language_info": {
   "codemirror_mode": {
    "name": "ipython",
    "version": 3
   },
   "file_extension": ".py",
   "mimetype": "text/x-python",
   "name": "python",
   "nbconvert_exporter": "python",
   "pygments_lexer": "ipython3",
   "version": "3.11.4"
  }
 },
 "nbformat": 4,
 "nbformat_minor": 2
}
